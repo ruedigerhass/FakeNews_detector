{
 "cells": [
  {
   "cell_type": "markdown",
   "metadata": {},
   "source": [
    "# Fake News prediction"
   ]
  },
  {
   "cell_type": "markdown",
   "metadata": {},
   "source": [
    "What are fake news?\n",
    "..."
   ]
  },
  {
   "cell_type": "markdown",
   "metadata": {},
   "source": [
    "## Libary import"
   ]
  },
  {
   "cell_type": "code",
   "execution_count": 2990,
   "metadata": {},
   "outputs": [],
   "source": [
    "reset -fs"
   ]
  },
  {
   "cell_type": "code",
   "execution_count": 2991,
   "metadata": {},
   "outputs": [],
   "source": [
    "%matplotlib inline\n",
    "RSEED = 42\n",
    "\n",
    "import pandas as pd\n",
    "import numpy as np\n",
    "import matplotlib.pyplot as plt\n",
    "import seaborn as sns\n",
    "from numpy import percentile\n",
    "\n",
    "#preprocessing\n",
    "import nltk \n",
    "import re\n",
    "from sklearn.model_selection import train_test_split\n",
    "\n",
    "#EDA\n",
    "from wordcloud import WordCloud\n",
    "\n",
    "#model\n",
    "from sklearn import model_selection\n",
    "\n",
    "## for bag-of-words\n",
    "from sklearn.feature_extraction.text import TfidfVectorizer, TfidfTransformer\n",
    "from sklearn import feature_extraction, preprocessing, model_selection\n",
    "from sklearn import feature_selection, metrics, naive_bayes, pipeline\n",
    "from sklearn.linear_model import LogisticRegression\n",
    "from sklearn.naive_bayes import ComplementNB\n",
    "from sklearn.tree import DecisionTreeClassifier\n",
    "from sklearn.pipeline import Pipeline\n",
    "from sklearn.metrics import accuracy_score, confusion_matrix, classification_report\n",
    "\n",
    "# word2vector\n",
    "import gensim\n",
    "import gensim.downloader as gensim_api\n",
    "from sklearn import manifold\n",
    "from sklearn.manifold import TSNE\n",
    "from tensorflow.keras import models, layers, preprocessing as kprocessing\n",
    "import tensorflow as tf\n",
    "from keras.utils.vis_utils import pydot\n",
    "from keras.utils import plot_model\n",
    "from keras import backend as K\n",
    "\n",
    "## bert language model\n",
    "import transformers\n"
   ]
  },
  {
   "cell_type": "markdown",
   "metadata": {},
   "source": [
    "## Loading data"
   ]
  },
  {
   "cell_type": "code",
   "execution_count": 2992,
   "metadata": {},
   "outputs": [
    {
     "data": {
      "text/plain": [
       "mostly true                  1264\n",
       "mixture of true and false     212\n",
       "mostly false                   87\n",
       "no factual content             64\n",
       "Name: veracity, dtype: int64"
      ]
     },
     "execution_count": 2992,
     "metadata": {},
     "output_type": "execute_result"
    }
   ],
   "source": [
    "data_overview = pd.read_csv('overview.csv')\n",
    "data_overview.veracity.value_counts()"
   ]
  },
  {
   "cell_type": "code",
   "execution_count": 2993,
   "metadata": {},
   "outputs": [
    {
     "data": {
      "text/plain": [
       "<bound method NDFrame.head of            XML        portal orientation                   veracity  \\\n",
       "0     0000.xml           abc  mainstream                mostly true   \n",
       "1     0001.xml           abc  mainstream                mostly true   \n",
       "2     0002.xml           abc  mainstream                mostly true   \n",
       "3     0003.xml           abc  mainstream                mostly true   \n",
       "4     0004.xml           abc  mainstream                mostly true   \n",
       "5     0005.xml           abc  mainstream                mostly true   \n",
       "6     0006.xml           abc  mainstream                mostly true   \n",
       "7     0007.xml           abc  mainstream         no factual content   \n",
       "8     0008.xml           abc  mainstream                mostly true   \n",
       "9     0009.xml           abc  mainstream                mostly true   \n",
       "10    0010.xml           abc  mainstream                mostly true   \n",
       "11    0011.xml           abc  mainstream                mostly true   \n",
       "12    0012.xml           abc  mainstream                mostly true   \n",
       "13    0013.xml           abc  mainstream                mostly true   \n",
       "14    0014.xml           abc  mainstream                mostly true   \n",
       "15    0015.xml           abc  mainstream                mostly true   \n",
       "16    0016.xml           abc  mainstream                mostly true   \n",
       "17    0017.xml           abc  mainstream                mostly true   \n",
       "18    0018.xml           abc  mainstream                mostly true   \n",
       "19    0019.xml           abc  mainstream  mixture of true and false   \n",
       "20    0020.xml           abc  mainstream                mostly true   \n",
       "21    0021.xml           abc  mainstream                mostly true   \n",
       "22    0022.xml           abc  mainstream                mostly true   \n",
       "23    0023.xml           abc  mainstream                mostly true   \n",
       "24    0024.xml           abc  mainstream                mostly true   \n",
       "25    0025.xml           abc  mainstream                mostly true   \n",
       "26    0026.xml           abc  mainstream                mostly true   \n",
       "27    0027.xml           abc  mainstream                mostly true   \n",
       "28    0028.xml           abc  mainstream                mostly true   \n",
       "29    0029.xml           abc  mainstream                mostly true   \n",
       "...        ...           ...         ...                        ...   \n",
       "1597  1597.xml  the-other-98        left                mostly true   \n",
       "1598  1598.xml  the-other-98        left                mostly true   \n",
       "1599  1599.xml  the-other-98        left                mostly true   \n",
       "1600  1600.xml  the-other-98        left                mostly true   \n",
       "1601  1601.xml  the-other-98        left                mostly true   \n",
       "1602  1602.xml  the-other-98        left                mostly true   \n",
       "1603  1603.xml  the-other-98        left                mostly true   \n",
       "1604  1604.xml  the-other-98        left                mostly true   \n",
       "1605  1605.xml  the-other-98        left                mostly true   \n",
       "1606  1606.xml  the-other-98        left                mostly true   \n",
       "1607  1607.xml  the-other-98        left                mostly true   \n",
       "1608  1608.xml  the-other-98        left                mostly true   \n",
       "1609  1609.xml  the-other-98        left                mostly true   \n",
       "1610  1610.xml  the-other-98        left                mostly true   \n",
       "1611  1611.xml  the-other-98        left                mostly true   \n",
       "1612  1612.xml  the-other-98        left                mostly true   \n",
       "1613  1613.xml  the-other-98        left  mixture of true and false   \n",
       "1614  1614.xml  the-other-98        left                mostly true   \n",
       "1615  1615.xml  the-other-98        left                mostly true   \n",
       "1616  1616.xml  the-other-98        left                mostly true   \n",
       "1617  1617.xml  the-other-98        left                mostly true   \n",
       "1618  1618.xml  the-other-98        left                mostly true   \n",
       "1619  1619.xml  the-other-98        left                mostly true   \n",
       "1620  1620.xml  the-other-98        left                mostly true   \n",
       "1621  1621.xml  the-other-98        left         no factual content   \n",
       "1622  1622.xml  the-other-98        left                mostly true   \n",
       "1623  1623.xml  the-other-98        left                mostly true   \n",
       "1624  1624.xml  the-other-98        left                mostly true   \n",
       "1625  1625.xml  the-other-98        left                mostly true   \n",
       "1626  1626.xml  the-other-98        left                mostly true   \n",
       "\n",
       "                                                    url  \n",
       "0     http://abcnews.go.com/Politics/impact-debates-...  \n",
       "1     http://abcnews.go.com/US/source-suspect-wanted...  \n",
       "2     http://abcnews.go.com/Politics/donald-trump-re...  \n",
       "3     http://abcnews.go.com/US/bombing-incidences-ny...  \n",
       "4     http://abcnews.go.com/Politics/trump-surrogate...  \n",
       "5     http://abcnews.go.com/International/woman-kill...  \n",
       "6     http://abcnews.go.com/International/syrian-mil...  \n",
       "7     http://abcnews.go.com/Politics/strait-talk-mat...  \n",
       "8     http://abcnews.go.com/Politics/ivanka-trump-se...  \n",
       "9     http://abcnews.go.com/Politics/obama-describes...  \n",
       "10    http://web.archive.org/web/20160920123248/http...  \n",
       "11    http://web.archive.org/web/20160923182935/http...  \n",
       "12    http://web.archive.org/web/20160920154511/http...  \n",
       "13    http://abcnews.go.com/Politics/terrorist-attac...  \n",
       "14    http://abcnews.go.com/Politics/ivanka-trump-me...  \n",
       "15    http://abcnews.go.com/Politics/hillary-clinton...  \n",
       "16    http://abcnews.go.com/Politics/presidential-de...  \n",
       "17    http://abcnews.go.com/International/russians-v...  \n",
       "18    http://web.archive.org/web/20160921200556/http...  \n",
       "19    http://abcnews.go.com/Politics/report-george-h...  \n",
       "20    http://abcnews.go.com/Politics/presidential-de...  \n",
       "21    http://abcnews.go.com/US/ny-nj-bombings-suspec...  \n",
       "22    http://abcnews.go.com/ABCNews/donald-trump-jr-...  \n",
       "23    http://web.archive.org/web/20160924113439/http...  \n",
       "24    http://abcnews.go.com/Politics/obama-recaps-pr...  \n",
       "25    http://abcnews.go.com/International/humanitari...  \n",
       "26    http://abcnews.go.com/Politics/donald-trump-jr...  \n",
       "27    http://abcnews.go.com/US/nyc-bombing-suspects-...  \n",
       "28    http://abcnews.go.com/US/fbi-opened-previous-i...  \n",
       "29    http://abcnews.go.com/Politics/hillary-clinton...  \n",
       "...                                                 ...  \n",
       "1597  http://usuncut.com/news/guess-which-terrorist-...  \n",
       "1598  http://usuncut.com/politics/robert-reich-how-t...  \n",
       "1599  http://usuncut.com/news/breaking-north-carolin...  \n",
       "1600  https://www.washingtonpost.com/news/worldviews...  \n",
       "1601  http://usuncut.com/black-lives-matter/gruesome...  \n",
       "1602  http://usuncut.com/news/louisiana-cop-caught-t...  \n",
       "1603  http://usuncut.com/class-war/elizabeth-warren-...  \n",
       "1604  http://usuncut.com/black-lives-matter/man-dies...  \n",
       "1605  http://usuncut.com/class-war/lunch-lady-quits-...  \n",
       "1606  http://grist.org/briefly/sweden-plans-to-give-...  \n",
       "1607  http://usuncut.com/black-lives-matter/veteran-...  \n",
       "1608  http://usuncut.com/black-lives-matter/ohio-pol...  \n",
       "1609  http://usuncut.com/black-lives-matter/can-slee...  \n",
       "1610  http://usuncut.com/news/trumps-african-america...  \n",
       "1611  http://usuncut.com/news/wells-fargo-fired-whis...  \n",
       "1612  http://usuncut.com/black-lives-matter/proteste...  \n",
       "1613    http://usuncut.com/climate/obama-two-pipelines/  \n",
       "1614  http://usuncut.com/news/officer-betty-shelby-c...  \n",
       "1615  http://usuncut.com/news/protester-shot-charlot...  \n",
       "1616  http://usuncut.com/black-lives-matter/video-sh...  \n",
       "1617  http://usuncut.com/world/here-are-9-reasons-de...  \n",
       "1618  http://usuncut.com/black-lives-matter/oprah-sp...  \n",
       "1619  http://usuncut.com/black-lives-matter/universi...  \n",
       "1620  http://usuncut.com/politics/bloomberg-fact-che...  \n",
       "1621  http://usuncut.com/politics/11-tweets-tonights...  \n",
       "1622  http://usuncut.com/news/houston-shooter-dresse...  \n",
       "1623  http://usuncut.com/politics/yes-donald-trump-s...  \n",
       "1624  http://usuncut.com/politics/clinton-crushes-tr...  \n",
       "1625  http://usuncut.com/black-lives-matter/cops-kil...  \n",
       "1626  http://usuncut.com/black-lives-matter/college-...  \n",
       "\n",
       "[1627 rows x 5 columns]>"
      ]
     },
     "execution_count": 2993,
     "metadata": {},
     "output_type": "execute_result"
    }
   ],
   "source": [
    "data_overview.head"
   ]
  },
  {
   "cell_type": "code",
   "execution_count": 2994,
   "metadata": {},
   "outputs": [],
   "source": [
    "data = pd.read_csv('BuzzData.csv')"
   ]
  },
  {
   "cell_type": "code",
   "execution_count": 2995,
   "metadata": {},
   "outputs": [
    {
     "data": {
      "text/html": [
       "<div>\n",
       "<style scoped>\n",
       "    .dataframe tbody tr th:only-of-type {\n",
       "        vertical-align: middle;\n",
       "    }\n",
       "\n",
       "    .dataframe tbody tr th {\n",
       "        vertical-align: top;\n",
       "    }\n",
       "\n",
       "    .dataframe thead th {\n",
       "        text-align: right;\n",
       "    }\n",
       "</style>\n",
       "<table border=\"1\" class=\"dataframe\">\n",
       "  <thead>\n",
       "    <tr style=\"text-align: right;\">\n",
       "      <th></th>\n",
       "      <th>article</th>\n",
       "      <th>prediction</th>\n",
       "    </tr>\n",
       "  </thead>\n",
       "  <tbody>\n",
       "    <tr>\n",
       "      <th>824</th>\n",
       "      <td>Even if you are President Obama, your jokes ne...</td>\n",
       "      <td>3</td>\n",
       "    </tr>\n",
       "    <tr>\n",
       "      <th>355</th>\n",
       "      <td>Supporters of Republican presidential nominee ...</td>\n",
       "      <td>3</td>\n",
       "    </tr>\n",
       "    <tr>\n",
       "      <th>315</th>\n",
       "      <td>While presidential nominees Donald Trump and H...</td>\n",
       "      <td>0</td>\n",
       "    </tr>\n",
       "    <tr>\n",
       "      <th>517</th>\n",
       "      <td>A well known Black Lives Matter activist calle...</td>\n",
       "      <td>3</td>\n",
       "    </tr>\n",
       "    <tr>\n",
       "      <th>1475</th>\n",
       "      <td>A cafeteria worker in a Pennsylvania school di...</td>\n",
       "      <td>3</td>\n",
       "    </tr>\n",
       "  </tbody>\n",
       "</table>\n",
       "</div>"
      ],
      "text/plain": [
       "                                                article  prediction\n",
       "824   Even if you are President Obama, your jokes ne...           3\n",
       "355   Supporters of Republican presidential nominee ...           3\n",
       "315   While presidential nominees Donald Trump and H...           0\n",
       "517   A well known Black Lives Matter activist calle...           3\n",
       "1475  A cafeteria worker in a Pennsylvania school di...           3"
      ]
     },
     "execution_count": 2995,
     "metadata": {},
     "output_type": "execute_result"
    }
   ],
   "source": [
    "data.sample(5)"
   ]
  },
  {
   "cell_type": "code",
   "execution_count": 2996,
   "metadata": {},
   "outputs": [
    {
     "data": {
      "text/plain": [
       "\"There have been so many deaths in country music over the past couple of months, and we thought that we were going to have to say goodbye to another legend Saturday night. It was a normal Saturday night at the Cornstock Concert on the Hill in Garnett, Kansas until Eddie Montgomery collapsed on stage in the middle of his performance. Many of you probably know the country star from the country duo Montgomery Gentry.  Montgomery Gentry was founded in 1999 when Eddie Montgomery and Troy Gentry came together and graced us all with their talents. The country duo has released 6 studio albums since their big debut and has had several No. 1 hits such as “If You Ever Stop Loving Me”, “Something to Be Proud Of”, “Lucky Man”, “Back When I Knew It All” and “Roll with Me”. The duo rose to fame shortly after the start of their career and they have continued to be a country favorite over the years. The duo was performing at their concert Saturday (September 24th) when Eddie Montgomery collapsed on the stage.  The medics immediately rushed to the stage and it was just moments later that he was walking off. The concert continued as Troy Gentry lead the band out. It was just four songs later that Eddie walked back out on the stage and apparently told the audience that he was not feeling well all day and that he was very dehydrated. And just like anything else, rumors started. Fans all over were saying that Eddie had a heart attack right there on stage. Apparently, they weren’t listening or they didn’t believe that he was actually dehydrated. The next morning on the duo’s Twitter they announced that Eddie was doing well and that it was definitely not a heart attack. There are false reports floating around that Eddie had a heart attack last night. NOT TRUE. He was dehydrated and returned to the stage. — Montgomery Gentry (@mgunderground) September 25, 2016  Eddie wanted to reassure everyone that he was indeed alive and that he didn’t have a heart attack, so a couple of hours after the initial post he took it upon himself to post a photo of him and his wife. Not only that, but he made sure that all of his fans knew that he was drinking PLENTY of water – doing his best to prevent the same thing from happening again. Eddie and Jennifer send their regards from Key West and thanks for all of the prayers and well wishes. And he's drinking plenty of H20! pic.twitter.com/xCJlTZCIHX — Montgomery Gentry (@mgunderground) September 25, 2016  We are so glad that Eddie is feeling better! I can’t imagine how scary this was for him and his fans!  We are praying for you Eddie!\""
      ]
     },
     "execution_count": 2996,
     "metadata": {},
     "output_type": "execute_result"
    }
   ],
   "source": [
    "data.article[42]"
   ]
  },
  {
   "cell_type": "markdown",
   "metadata": {},
   "source": [
    "## Looking at data"
   ]
  },
  {
   "cell_type": "markdown",
   "metadata": {},
   "source": [
    "###  Mean of length article (in words)"
   ]
  },
  {
   "cell_type": "code",
   "execution_count": 2997,
   "metadata": {},
   "outputs": [],
   "source": [
    "for x in data.article:\n",
    "    len_article = np.mean(len(x.split()))"
   ]
  },
  {
   "cell_type": "code",
   "execution_count": 2998,
   "metadata": {},
   "outputs": [
    {
     "data": {
      "text/plain": [
       "215.0"
      ]
     },
     "execution_count": 2998,
     "metadata": {},
     "output_type": "execute_result"
    }
   ],
   "source": [
    "len_article"
   ]
  },
  {
   "cell_type": "markdown",
   "metadata": {},
   "source": [
    "### Distribution of article (by length)"
   ]
  },
  {
   "cell_type": "code",
   "execution_count": 2999,
   "metadata": {},
   "outputs": [],
   "source": [
    "# create column for length of article\n",
    "dist_article = []\n",
    "for x in data.article:\n",
    "    dist_article.append(len(x.split()))\n",
    "data['Article_length'] = dist_article"
   ]
  },
  {
   "cell_type": "code",
   "execution_count": 3000,
   "metadata": {},
   "outputs": [
    {
     "data": {
      "image/png": "[encoded data removed]",
      "text/plain": [
       "<Figure size 576x360 with 1 Axes>"
      ]
     },
     "metadata": {
      "needs_background": "light"
     },
     "output_type": "display_data"
    }
   ],
   "source": [
    "plt.figure(figsize=(8,5))\n",
    "ax = sns.distplot(dist_article)"
   ]
  },
  {
   "cell_type": "markdown",
   "metadata": {},
   "source": [
    "### Distribution by subject"
   ]
  },
  {
   "cell_type": "code",
   "execution_count": null,
   "metadata": {},
   "outputs": [],
   "source": []
  },
  {
   "cell_type": "markdown",
   "metadata": {},
   "source": [
    "# Data cleaning"
   ]
  },
  {
   "cell_type": "markdown",
   "metadata": {},
   "source": [
    "- check for missing values\n",
    "- remove empty article\n",
    "- check for duplicated article\n",
    "- combine categories\n",
    "- remove outlier"
   ]
  },
  {
   "cell_type": "code",
   "execution_count": 3001,
   "metadata": {},
   "outputs": [
    {
     "data": {
      "text/plain": [
       "article           0\n",
       "prediction        0\n",
       "Article_length    0\n",
       "dtype: int64"
      ]
     },
     "execution_count": 3001,
     "metadata": {},
     "output_type": "execute_result"
    }
   ],
   "source": [
    "#check for missing values\n",
    "data.isnull().sum()"
   ]
  },
  {
   "cell_type": "code",
   "execution_count": 3002,
   "metadata": {
    "code_folding": []
   },
   "outputs": [
    {
     "name": "stdout",
     "output_type": "stream",
     "text": [
      "14\n",
      "                           article  prediction  Article_length\n",
      "94    The document has moved here.           3               5\n",
      "145   The document has moved here.           3               5\n",
      "308   The document has moved here.           1               5\n",
      "429   The document has moved here.           0               5\n",
      "724   The document has moved here.           3               5\n",
      "846   The document has moved here.           2               5\n",
      "908   The document has moved here.           3               5\n",
      "913   The document has moved here.           0               5\n",
      "1003  The document has moved here.           3               5\n",
      "1081  The document has moved here.           2               5\n",
      "1137  The document has moved here.           1               5\n",
      "1335  The document has moved here.           3               5\n",
      "1456  The document has moved here.           3               5\n",
      "1461  The document has moved here.           2               5\n"
     ]
    }
   ],
   "source": [
    "#find empty article \n",
    "empty_list = data[data['article'] == 'The document has moved here.']\n",
    "print(len(empty_list))\n",
    "print(empty_list)"
   ]
  },
  {
   "cell_type": "code",
   "execution_count": 3003,
   "metadata": {},
   "outputs": [
    {
     "data": {
      "text/plain": [
       "(1590, 3)"
      ]
     },
     "execution_count": 3003,
     "metadata": {},
     "output_type": "execute_result"
    }
   ],
   "source": [
    "# drop empty articles\n",
    "data.drop(data[data['article'] == 'The document has moved here.'].index , inplace=True)\n",
    "data.shape"
   ]
  },
  {
   "cell_type": "code",
   "execution_count": 3004,
   "metadata": {},
   "outputs": [
    {
     "name": "stdout",
     "output_type": "stream",
     "text": [
      "34\n",
      "                                                article  prediction  \\\n",
      "223   (CNN)The circus of politics can often be a dis...           2   \n",
      "231   (CNN)Hillary Clinton forced Donald Trump onto ...           3   \n",
      "276   (CNN)Debate stages have long doubled as presid...           3   \n",
      "332   Washington (CNN)Republicans are preparing for ...           3   \n",
      "376   Washington (CNN)The battle over gun rights ret...           3   \n",
      "474   (CNN)Ukrainian President Petro Poroshenko says...           3   \n",
      "570   Washington (CNN)New York City Mayor Bill de Bl...           3   \n",
      "734   WashingtonSince we last updated the CNN battle...           3   \n",
      "771   (CNN)Sen. Jeff Sessions pilloried former Presi...           3   \n",
      "829   Washington (CNN)The cast of \"The West Wing\" is...           3   \n",
      "1023  (CNN)Even if their preferred candidate wins, a...           3   \n",
      "1128  (CNN)Hillary Clinton holds a solid 6-point lea...           3   \n",
      "1158  Washington (CNN)Hillary Clinton and Donald Tru...           3   \n",
      "1162  Washington (CNN)The cast of \"The West Wing\" is...           3   \n",
      "1209  Washington (CNN)The National Rifle Association...           3   \n",
      "1228  Washington (CNN)A series of high-profile breac...           3   \n",
      "1229  (CNN)Even if their preferred candidate wins, a...           3   \n",
      "1326  (CNN)Drawing enormous support from the state's...           3   \n",
      "1327  Washington (CNN)Rep. John Lewis, a pioneer in ...           3   \n",
      "1328  (CNN)Hillary Clinton forced Donald Trump onto ...           3   \n",
      "1330  (CNN)A group of 375 \"concerned\" scientists -- ...           3   \n",
      "1366  Washington (CNN)Senate Minority Leader Harry R...           3   \n",
      "1370  Washington (CNN)Former \"Miss Universe\" Alicia ...           3   \n",
      "1378  United Nations (CNN)President Barack Obama too...           3   \n",
      "1411  (CNN)Hillary Clinton's campaign manager said W...           3   \n",
      "1427  United Nations (CNN)President Barack Obama too...           3   \n",
      "1466  Washington (CNN)With two months to go before E...           3   \n",
      "1467  (CNN)President Barack Obama sharply criticized...           3   \n",
      "1515  Washington (CNN)The National Rifle Association...           3   \n",
      "1529  (CNN)Michelle Obama on Tuesday joked about the...           3   \n",
      "1531  New York (CNN)President Barack Obama confronte...           3   \n",
      "1532  WashingtonSince we last updated the CNN battle...           3   \n",
      "1581  (CNN)Former President Bill Clinton sought to a...           3   \n",
      "1587  (CNN)Former President George H.W. Bush said Mo...           0   \n",
      "\n",
      "      Article_length  \n",
      "223              602  \n",
      "231             1154  \n",
      "276              887  \n",
      "332             1285  \n",
      "376             1023  \n",
      "474              517  \n",
      "570              352  \n",
      "734              844  \n",
      "771              405  \n",
      "829              203  \n",
      "1023             305  \n",
      "1128             325  \n",
      "1158             296  \n",
      "1162             203  \n",
      "1209             360  \n",
      "1228            1050  \n",
      "1229             305  \n",
      "1326             254  \n",
      "1327             359  \n",
      "1328            1154  \n",
      "1330             337  \n",
      "1366             431  \n",
      "1370             797  \n",
      "1378            1114  \n",
      "1411             553  \n",
      "1427            1114  \n",
      "1466             777  \n",
      "1467             555  \n",
      "1515             360  \n",
      "1529             323  \n",
      "1531             881  \n",
      "1532             844  \n",
      "1581             356  \n",
      "1587             978  \n"
     ]
    }
   ],
   "source": [
    "# find dupilcated article\n",
    "dupl = data[data.duplicated(['article'])]\n",
    "print(len(dupl))\n",
    "print(dupl)"
   ]
  },
  {
   "cell_type": "code",
   "execution_count": 3005,
   "metadata": {},
   "outputs": [
    {
     "data": {
      "text/plain": [
       "(1557, 3)"
      ]
     },
     "execution_count": 3005,
     "metadata": {},
     "output_type": "execute_result"
    }
   ],
   "source": [
    "# remove duplicate\n",
    "data.drop_duplicates(keep='first', inplace=True)\n",
    "data.shape"
   ]
  },
  {
   "cell_type": "code",
   "execution_count": 3006,
   "metadata": {},
   "outputs": [],
   "source": [
    "#removes = data.article.isin([\"EDITOR’S NOTE:\"]).index"
   ]
  },
  {
   "cell_type": "code",
   "execution_count": 3007,
   "metadata": {},
   "outputs": [],
   "source": [
    "#CNN"
   ]
  },
  {
   "cell_type": "code",
   "execution_count": 3008,
   "metadata": {},
   "outputs": [
    {
     "data": {
      "text/plain": [
       "3    1210\n",
       "0     206\n",
       "1      80\n",
       "2      61\n",
       "Name: prediction, dtype: int64"
      ]
     },
     "execution_count": 3008,
     "metadata": {},
     "output_type": "execute_result"
    }
   ],
   "source": [
    "#combine and drop categories of prediciton\n",
    "data.prediction.unique()\n",
    "data.prediction.value_counts()"
   ]
  },
  {
   "cell_type": "code",
   "execution_count": 3009,
   "metadata": {},
   "outputs": [],
   "source": [
    "#data.prediction.drop(['2'])\n",
    "index_2 = data[data['prediction'] == 2].index\n",
    "data.drop(index_2, inplace=True)"
   ]
  },
  {
   "cell_type": "code",
   "execution_count": 3010,
   "metadata": {},
   "outputs": [
    {
     "data": {
      "text/plain": [
       "(1496, 3)"
      ]
     },
     "execution_count": 3010,
     "metadata": {},
     "output_type": "execute_result"
    }
   ],
   "source": [
    "data.shape"
   ]
  },
  {
   "cell_type": "code",
   "execution_count": 3011,
   "metadata": {},
   "outputs": [
    {
     "data": {
      "text/plain": [
       "0    1210\n",
       "1     286\n",
       "Name: prediction, dtype: int64"
      ]
     },
     "execution_count": 3011,
     "metadata": {},
     "output_type": "execute_result"
    }
   ],
   "source": [
    "# combine prediction of mostly & mixture of true and false since we are looking for fake news\n",
    "# -> dataset with prediction: 0 = mostly True news\n",
    "#                             1 = mostly Fake News & article with some fake news\n",
    "data.prediction.replace(0, 1, inplace = True)\n",
    "data.prediction.replace(3, 0, inplace = True)\n",
    "data.prediction.value_counts()"
   ]
  },
  {
   "cell_type": "markdown",
   "metadata": {},
   "source": [
    "## Handling outliers\n",
    "since we know that the distribution of length of words in the sample isn't Gaussian,\n",
    "we can't use the standard deviation of the sample as a cut-off \n",
    "therefore we use Interquartile Range Method"
   ]
  },
  {
   "cell_type": "code",
   "execution_count": 3012,
   "metadata": {},
   "outputs": [
    {
     "name": "stdout",
     "output_type": "stream",
     "text": [
      "Percentiles: 25th=307.000, 75th=599.500, IQR=292.500\n",
      "Identified outliers: 161\n",
      "Non-outlier observations: 1335\n"
     ]
    }
   ],
   "source": [
    "# calculate interquartile range\n",
    "q25, q75 = percentile(data.Article_length, 25), percentile(data.Article_length, 75)\n",
    "iqr = q75 - q25\n",
    "print('Percentiles: 25th=%.3f, 75th=%.3f, IQR=%.3f' % (q25, q75, iqr))\n",
    "# calculate the outlier cutoff\n",
    "cut_off = iqr * 1.5\n",
    "lower, upper = q25 - cut_off, q75 + cut_off\n",
    "# identify outliers\n",
    "outliers = [idx for idx,x in data.Article_length.iteritems() if x < lower or x > upper]\n",
    "print('Identified outliers: %d' % len(outliers))\n",
    "# remove outliers\n",
    "outliers_removed = [x for x in data.Article_length if x >= lower and x <= upper]\n",
    "print('Non-outlier observations: %d' % len(outliers_removed))"
   ]
  },
  {
   "cell_type": "code",
   "execution_count": 3013,
   "metadata": {},
   "outputs": [
    {
     "data": {
      "text/plain": [
       "161"
      ]
     },
     "execution_count": 3013,
     "metadata": {},
     "output_type": "execute_result"
    }
   ],
   "source": [
    "# number of outliers\n",
    "len(outliers)"
   ]
  },
  {
   "cell_type": "code",
   "execution_count": 3014,
   "metadata": {},
   "outputs": [],
   "source": [
    "# remove outliers\n",
    "data.drop(outliers, inplace=True)"
   ]
  },
  {
   "cell_type": "code",
   "execution_count": 3015,
   "metadata": {},
   "outputs": [
    {
     "data": {
      "text/plain": [
       "(1335, 3)"
      ]
     },
     "execution_count": 3015,
     "metadata": {},
     "output_type": "execute_result"
    }
   ],
   "source": [
    "data.shape"
   ]
  },
  {
   "cell_type": "code",
   "execution_count": 3016,
   "metadata": {},
   "outputs": [],
   "source": [
    "X = data['article']\n",
    "y = data['prediction']"
   ]
  },
  {
   "cell_type": "code",
   "execution_count": 3017,
   "metadata": {},
   "outputs": [],
   "source": [
    "X_train, X_test, y_train, y_test = train_test_split(X, y, test_size=0.3, random_state=RSEED)"
   ]
  },
  {
   "cell_type": "markdown",
   "metadata": {},
   "source": [
    "# Exploratory data analysis (EDA)"
   ]
  },
  {
   "cell_type": "markdown",
   "metadata": {},
   "source": [
    "## Fake News and True News"
   ]
  },
  {
   "cell_type": "code",
   "execution_count": 3018,
   "metadata": {},
   "outputs": [
    {
     "data": {
      "image/png": "[encoded data removed]",
      "text/plain": [
       "<Figure size 432x288 with 1 Axes>"
      ]
     },
     "metadata": {},
     "output_type": "display_data"
    }
   ],
   "source": [
    "Fig_age_survivial = (data.prediction.value_counts()\n",
    "                     .plot.pie(autopct='%1.1f%%'\n",
    "                               ,shadow=True\n",
    "                               ,colors=['blue','red']\n",
    "                               ,textprops=dict(color=\"w\",size='14'))\n",
    "                    )\n",
    "plt.title('What kind of news?')\n",
    "plt.legend(['True News','Fake News'])\n",
    "plt.savefig('figures/News_pie.png')"
   ]
  },
  {
   "cell_type": "markdown",
   "metadata": {},
   "source": [
    "## Article length"
   ]
  },
  {
   "cell_type": "code",
   "execution_count": 3019,
   "metadata": {},
   "outputs": [],
   "source": [
    "dist_article = []\n",
    "for x in data.article:\n",
    "    dist_article.append(len(x.split()))\n",
    "data['Article_length'] = dist_article"
   ]
  },
  {
   "cell_type": "code",
   "execution_count": 3020,
   "metadata": {
    "scrolled": true
   },
   "outputs": [
    {
     "ename": "TypeError",
     "evalue": "distplot() got an unexpected keyword argument 'linestyle'",
     "output_type": "error",
     "traceback": [
      "\u001b[0;31m---------------------------------------------------------------------------\u001b[0m",
      "\u001b[0;31mTypeError\u001b[0m                                 Traceback (most recent call last)",
      "\u001b[0;32m<ipython-input-3020-21446d8e1676>\u001b[0m in \u001b[0;36m<module>\u001b[0;34m\u001b[0m\n\u001b[1;32m      1\u001b[0m \u001b[0mplt\u001b[0m\u001b[0;34m.\u001b[0m\u001b[0mfigure\u001b[0m\u001b[0;34m(\u001b[0m\u001b[0mfigsize\u001b[0m\u001b[0;34m=\u001b[0m\u001b[0;34m(\u001b[0m\u001b[0;36m8\u001b[0m\u001b[0;34m,\u001b[0m\u001b[0;36m5\u001b[0m\u001b[0;34m)\u001b[0m\u001b[0;34m)\u001b[0m\u001b[0;34m\u001b[0m\u001b[0;34m\u001b[0m\u001b[0m\n\u001b[0;32m----> 2\u001b[0;31m \u001b[0max\u001b[0m \u001b[0;34m=\u001b[0m \u001b[0msns\u001b[0m\u001b[0;34m.\u001b[0m\u001b[0mdistplot\u001b[0m\u001b[0;34m(\u001b[0m\u001b[0mdata\u001b[0m\u001b[0;34m[\u001b[0m\u001b[0;34m\"Article_length\"\u001b[0m\u001b[0;34m]\u001b[0m\u001b[0;34m,\u001b[0m \u001b[0mcolor\u001b[0m\u001b[0;34m=\u001b[0m\u001b[0;34m\"green\"\u001b[0m\u001b[0;34m,\u001b[0m \u001b[0mlabel\u001b[0m\u001b[0;34m=\u001b[0m\u001b[0;34m\"A\"\u001b[0m\u001b[0;34m,\u001b[0m \u001b[0mlinestyle\u001b[0m\u001b[0;34m=\u001b[0m\u001b[0;34m\"-\"\u001b[0m\u001b[0;34m)\u001b[0m\u001b[0;34m\u001b[0m\u001b[0;34m\u001b[0m\u001b[0m\n\u001b[0m",
      "\u001b[0;31mTypeError\u001b[0m: distplot() got an unexpected keyword argument 'linestyle'"
     ]
    },
    {
     "data": {
      "text/plain": [
       "<Figure size 576x360 with 0 Axes>"
      ]
     },
     "metadata": {},
     "output_type": "display_data"
    }
   ],
   "source": [
    "plt.figure(figsize=(8,5))\n",
    "ax = sns.distplot(data[\"Article_length\"], color=\"green\", label=\"A\", linestyle=\"-\")"
   ]
  },
  {
   "cell_type": "code",
   "execution_count": null,
   "metadata": {},
   "outputs": [],
   "source": [
    "# boxplot \n",
    "ax = sns.boxplot(x=data[\"Article_length\"])"
   ]
  },
  {
   "cell_type": "code",
   "execution_count": null,
   "metadata": {},
   "outputs": [],
   "source": [
    "# boxplot by prediction\n",
    "ax = sns.boxplot(x=\"prediction\", y=\"Article_length\", data=data)"
   ]
  },
  {
   "cell_type": "code",
   "execution_count": null,
   "metadata": {},
   "outputs": [],
   "source": [
    "data.shape"
   ]
  },
  {
   "cell_type": "markdown",
   "metadata": {},
   "source": [
    "## Subject"
   ]
  },
  {
   "cell_type": "code",
   "execution_count": null,
   "metadata": {},
   "outputs": [],
   "source": [
    "# pie chart for subject\n",
    "# boxplot for subject"
   ]
  },
  {
   "cell_type": "code",
   "execution_count": null,
   "metadata": {},
   "outputs": [],
   "source": []
  },
  {
   "cell_type": "markdown",
   "metadata": {},
   "source": [
    "# Preprocessing"
   ]
  },
  {
   "cell_type": "code",
   "execution_count": null,
   "metadata": {},
   "outputs": [],
   "source": [
    "print(data.shape)"
   ]
  },
  {
   "cell_type": "code",
   "execution_count": null,
   "metadata": {},
   "outputs": [],
   "source": [
    "del data['Article_length']\n",
    "text = data['article']\n",
    "label = data['prediction']"
   ]
  },
  {
   "cell_type": "code",
   "execution_count": null,
   "metadata": {},
   "outputs": [],
   "source": [
    "print(data.article[42])"
   ]
  },
  {
   "cell_type": "code",
   "execution_count": null,
   "metadata": {},
   "outputs": [],
   "source": [
    "# removing stopwords (commonly used words which search engine has been programmed to ignore)\n",
    "lst_stopwords = nltk.corpus.stopwords.words(\"english\")\n",
    "lst_stopwords"
   ]
  },
  {
   "cell_type": "markdown",
   "metadata": {},
   "source": [
    "preprocessing includes:\n",
    "- tokenize\n",
    "- remove punctuations and set lowercase\n",
    "- remove stopwords\n",
    "- remove URL's\n",
    "- remove twitter names\n",
    "- lemmatization / stemming"
   ]
  },
  {
   "cell_type": "code",
   "execution_count": null,
   "metadata": {},
   "outputs": [],
   "source": [
    "def preprocess_text_lemm(text, flg_lemm=True, lst_stopwords=None):\n",
    "    ## clean (convert to lowercase and remove punctuations and characters and then strip)\n",
    "    text = re.sub(r'[^\\w\\s]', '', str(text).lower().strip())\n",
    "            \n",
    "    ## Tokenize (convert from string to list)\n",
    "    lst_text = text.split()\n",
    "    ## remove Stopwords\n",
    "    if lst_stopwords is not None:\n",
    "        lst_text = [word for word in lst_text if word not in \n",
    "                    lst_stopwords]\n",
    "    \n",
    "    ## remove URL\n",
    "    text = re.sub(r'http\\S+', '', text)\n",
    "    \n",
    "    ## remove twitter\n",
    "    text = re.sub('@[^\\s]+','', text)\n",
    "        \n",
    "    # \n",
    "    if flg_lemm == True:\n",
    "        lem = nltk.stem.wordnet.WordNetLemmatizer()\n",
    "        lst_text = [lem.lemmatize(word) for word in lst_text]\n",
    "            \n",
    "    ## back to string from list\n",
    "    text = \" \".join(lst_text)\n",
    "    return text"
   ]
  },
  {
   "cell_type": "code",
   "execution_count": null,
   "metadata": {},
   "outputs": [],
   "source": [
    "i=0\n",
    "data_lemm = data\n",
    "data_lemm[\"text\"] = data[\"article\"].apply(lambda x: \n",
    "          preprocess_text_lemm(x, flg_lemm=True, lst_stopwords=lst_stopwords))"
   ]
  },
  {
   "cell_type": "code",
   "execution_count": null,
   "metadata": {},
   "outputs": [],
   "source": [
    "print(data_lemm.text[42])"
   ]
  },
  {
   "cell_type": "code",
   "execution_count": null,
   "metadata": {},
   "outputs": [],
   "source": [
    "def preprocess_text_stemm(text, flg_stemm=True, lst_stopwords=None):\n",
    "    \n",
    "    ## clean (convert to lowercase and remove punctuations and characters and then strip)\n",
    "    text = re.sub(r'[^\\w\\s]', '', str(text).lower().strip())\n",
    "            \n",
    "    ## Tokenize (convert from string to list)\n",
    "    lst_text = text.split()\n",
    "    ## remove Stopwords\n",
    "    if lst_stopwords is not None:\n",
    "        lst_text = [word for word in lst_text if word not in \n",
    "                    lst_stopwords]\n",
    "    \n",
    "    ## remove URL\n",
    "    text = re.sub(r'http\\S+', '', text)\n",
    "    \n",
    "    ## remove twitter\n",
    "    text = re.sub('@[^\\s]+','', text)\n",
    "               \n",
    "    ## Stemming (remove -ing, -ly, ...)\n",
    "    if flg_stemm == True:\n",
    "        ps = nltk.stem.porter.PorterStemmer()\n",
    "        lst_text = [ps.stem(word) for word in lst_text]\n",
    "        \n",
    "    \n",
    "    ## back to string from list\n",
    "    text = \" \".join(lst_text)\n",
    "    return text"
   ]
  },
  {
   "cell_type": "code",
   "execution_count": null,
   "metadata": {},
   "outputs": [],
   "source": [
    "i=0\n",
    "data_stemm = data\n",
    "data_stemm[\"text\"] = data[\"article\"].apply(lambda x: \n",
    "          preprocess_text_stemm(x, flg_stemm=True, lst_stopwords=lst_stopwords))"
   ]
  },
  {
   "cell_type": "code",
   "execution_count": null,
   "metadata": {},
   "outputs": [],
   "source": [
    "data_lemm.drop(['article'], axis=1, inplace=True) "
   ]
  },
  {
   "cell_type": "code",
   "execution_count": null,
   "metadata": {},
   "outputs": [],
   "source": [
    "data_lemm.text[42]"
   ]
  },
  {
   "cell_type": "code",
   "execution_count": null,
   "metadata": {},
   "outputs": [],
   "source": [
    "data_stemm.text[42]"
   ]
  },
  {
   "cell_type": "code",
   "execution_count": null,
   "metadata": {
    "scrolled": true
   },
   "outputs": [],
   "source": [
    "print(data.head())\n",
    "print(data_lemm.head())\n",
    "print(data_stemm.head())"
   ]
  },
  {
   "cell_type": "code",
   "execution_count": null,
   "metadata": {},
   "outputs": [],
   "source": [
    "print(data.shape)\n",
    "print(data_lemm.shape)\n",
    "print(data_stemm.shape)"
   ]
  },
  {
   "cell_type": "markdown",
   "metadata": {},
   "source": [
    "# Model"
   ]
  },
  {
   "cell_type": "code",
   "execution_count": null,
   "metadata": {},
   "outputs": [],
   "source": [
    "## split dataset for stemming data\n",
    "data_stemm_train, data_stemm_test = model_selection.train_test_split(data_stemm, test_size=0.3, random_state=RSEED)\n",
    "## get target\n",
    "y_stemm_train = data_stemm_train[\"prediction\"].values\n",
    "y_stemm_test = data_stemm_test[\"prediction\"].values\n",
    "## drop target\n",
    "X_stemm_train = data_stemm_train[\"prediction\"]\n",
    "X_stemm_test = data_stemm_test[\"prediction\"]"
   ]
  },
  {
   "cell_type": "code",
   "execution_count": null,
   "metadata": {
    "scrolled": true
   },
   "outputs": [],
   "source": [
    "## split dataset for lemitaz data\n",
    "data_lemm_train, data_lemm_test = model_selection.train_test_split(data_lemm, test_size=0.3, random_state=RSEED)\n",
    "## get target\n",
    "y_lemm_train = data_lemm_train[\"prediction\"].values\n",
    "y_lemm_test = data_lemm_test[\"prediction\"].values\n",
    "## drop target\n",
    "X_lemm_train = data_lemm_train[\"prediction\"]\n",
    "X_lemm_test = data_lemm_test[\"prediction\"]"
   ]
  },
  {
   "cell_type": "code",
   "execution_count": null,
   "metadata": {},
   "outputs": [],
   "source": [
    "print(X_stemm_test.shape)\n",
    "print(y_stemm_train.shape)\n",
    "print(X_lemm_test.shape)\n",
    "print(y_lemm_train.shape)"
   ]
  },
  {
   "cell_type": "code",
   "execution_count": null,
   "metadata": {},
   "outputs": [],
   "source": [
    "# split dataset for Convolutional Neural Network(CNN)\n",
    "#(X_train_cnn, X_val_cnn, y_train_cnn, y_val_cnn) = train_test_split(X_train, y_train, test_size=0.15, random_state=RSEED)"
   ]
  },
  {
   "cell_type": "markdown",
   "metadata": {},
   "source": [
    "## Word cloud"
   ]
  },
  {
   "cell_type": "code",
   "execution_count": null,
   "metadata": {},
   "outputs": [],
   "source": [
    "#Word Cloud for data true news\n",
    "lst = ''\n",
    "for news in data_stemm[data_stemm.prediction==0].text.values:\n",
    "    lst += f\" {news}\"\n",
    "wordcloud = WordCloud(\n",
    "    width = 3000,\n",
    "    height = 2000,\n",
    "    background_color = 'black',\n",
    "    stopwords = set(nltk.corpus.stopwords.words(\"english\"))).generate(lst)\n",
    "fig = plt.figure(\n",
    "    figsize = (40, 30),\n",
    "    facecolor = 'k',\n",
    "    edgecolor = 'k')\n",
    "plt.imshow(wordcloud, interpolation = 'bilinear')\n",
    "plt.axis('off')\n",
    "plt.tight_layout(pad=0)\n",
    "plt.show()\n",
    "del lst"
   ]
  },
  {
   "cell_type": "code",
   "execution_count": null,
   "metadata": {},
   "outputs": [],
   "source": [
    "#Word Cloud for data fake news\n",
    "lst = ''\n",
    "for news in data_stemm[data_stemm.prediction==1].text.values:\n",
    "    lst += f\" {news}\"\n",
    "wordcloud = WordCloud(\n",
    "    width = 3000,\n",
    "    height = 2000,\n",
    "    background_color = 'black',\n",
    "    stopwords = set(nltk.corpus.stopwords.words(\"english\"))).generate(lst)\n",
    "fig = plt.figure(\n",
    "    figsize = (40, 30),\n",
    "    facecolor = 'k',\n",
    "    edgecolor = 'k')\n",
    "plt.imshow(wordcloud, interpolation = 'bilinear')\n",
    "plt.axis('off')\n",
    "plt.tight_layout(pad=0)\n",
    "plt.show()\n",
    "del lst"
   ]
  },
  {
   "cell_type": "code",
   "execution_count": null,
   "metadata": {},
   "outputs": [],
   "source": []
  },
  {
   "cell_type": "markdown",
   "metadata": {},
   "source": [
    "## Bag-of-Words with Tf-Idf (Term Frequency - Inverse Document Frequency)"
   ]
  },
  {
   "cell_type": "markdown",
   "metadata": {},
   "source": [
    "Bag-of-Words model in general builds a vocabulary from a corpus of documents and counts how many times the words appear in each document. Each word in the vocabulary becomes a feature and a document is represented by a vector with the same length of the vocabulary (a “bag of words”) \n",
    "\n",
    "But instead of simple counting, we use the term frequency–inverse document frequency (or Tf–Idf). Basically, the value of a word increases proportionally to count, but it is inversely proportional to the frequency of the word in the corpus.\n",
    "\n",
    "- Features Engineering with vectorizer\n",
    "- Features Selection by p-value\n",
    "- Model Design\n",
    "- Train / Test\n",
    "- Evaluate\n",
    "- Explainability"
   ]
  },
  {
   "cell_type": "code",
   "execution_count": null,
   "metadata": {},
   "outputs": [],
   "source": [
    "## Tf-Idf (advanced variant of BoW)\n",
    "vectorizer = feature_extraction.text.TfidfVectorizer(max_features=10000, ngram_range=(1,2),lowercase=False)"
   ]
  },
  {
   "cell_type": "code",
   "execution_count": null,
   "metadata": {},
   "outputs": [],
   "source": [
    "#Feature Engineering: create features by extracting information from the data\n",
    "corpus = data_stemm_train[\"text\"]\n",
    "vectorizer.fit(corpus)\n",
    "X_stemm_train = vectorizer.transform(corpus)\n",
    "dic_vocabulary = vectorizer.vocabulary_\n",
    "X_stemm_train.shape"
   ]
  },
  {
   "cell_type": "code",
   "execution_count": null,
   "metadata": {},
   "outputs": [],
   "source": [
    "sns.heatmap(X_stemm_train.todense()[:,np.random.randint(0,data_stemm_train.shape[1],100)]==0, vmin=0, vmax=1, cbar=False).set_title('Sparse Matrix Sample');"
   ]
  },
  {
   "cell_type": "code",
   "execution_count": null,
   "metadata": {},
   "outputs": [],
   "source": [
    "word = \"trump\"\n",
    "dic_vocabulary[word]"
   ]
  },
  {
   "cell_type": "markdown",
   "metadata": {},
   "source": [
    "### not working"
   ]
  },
  {
   "cell_type": "markdown",
   "metadata": {},
   "source": [
    "Feature Selection: in order to drop some columns and reduce the matrix dimensionality by selecting a subset of relevant variables:\n",
    "\n",
    "- perform a Chi-Square test to determine whether a feature and the target are independent\n",
    "\n",
    "- keep only the features with a certain p-value from the Chi-Square test."
   ]
  },
  {
   "cell_type": "markdown",
   "metadata": {},
   "source": [
    "#Perform feature selection using p-values (keep highly correlated features)\n",
    "def features_selection(X_stemm_train, y_stemm_train, X_names, top=None, print_top=10):    \n",
    "    ## selection\n",
    "    dtf_features = pd.DataFrame()\n",
    "    for cat in np.unique(y):\n",
    "        chi2, p = feature_selection.chi2(X, y==cat)\n",
    "        dtf_features = dtf_features.append(pd.DataFrame({\"feature\":X_names, \"score\":1-p, \"y\":cat}))\n",
    "    dtf_features = dtf_features.sort_values([\"y\",\"score\"], ascending=[True,False])\n",
    "    dtf_features = dtf_features[dtf_features[\"score\"]>0.80] #p-value filter\n",
    "    if top is not None:\n",
    "        dtf_features = dtf_features.groupby('y')[\"y\",\"feature\",\"score\"].head(top)\n",
    "    \n",
    "    ## print\n",
    "    print(\"features selection: from\", \"{:,.0f}\".format(len(X_names)), \n",
    "          \"to\", \"{:,.0f}\".format(len(dtf_features[\"feature\"].unique())))\n",
    "    print(\" \")\n",
    "    for cat in np.unique(y):\n",
    "        print(\"# {}:\".format(cat))\n",
    "        print(\"  . selected features:\", len(dtf_features[dtf_features[\"y\"]==cat]))\n",
    "        print(\"  . top features:\", \", \".join(dtf_features[dtf_features[\"y\"]==cat][\"feature\"].values[:print_top]))\n",
    "        print(\" \")\n",
    "    return dtf_features[\"feature\"].unique().tolist(), dtf_features\n"
   ]
  },
  {
   "cell_type": "markdown",
   "metadata": {},
   "source": [
    "#give features with p-value >0.80\n",
    "y = y_stemm_train\n",
    "X_names = vectorizer.get_feature_names()\n",
    "p_value_limit = 0.80\n",
    "dtf_features = pd.DataFrame()\n",
    "for cat in np.unique(y):\n",
    "    chi2, p = feature_selection.chi2(X_stemm_train, y==cat)\n",
    "    dtf_features = dtf_features.append(pd.DataFrame(\n",
    "                   {\"feature\":X_names, \"score\":1-p, \"y\":cat}))\n",
    "    dtf_features = dtf_features.sort_values([\"y\",\"score\"], \n",
    "                    ascending=[True,False])\n",
    "    dtf_features = dtf_features[dtf_features[\"score\"]>p_value_limit]\n",
    "X_names = dtf_features[\"feature\"].unique().tolist()"
   ]
  },
  {
   "cell_type": "markdown",
   "metadata": {},
   "source": [
    "X_names"
   ]
  },
  {
   "cell_type": "markdown",
   "metadata": {},
   "source": [
    "for cat in np.unique(y):\n",
    "    print(\"# {}:\".format(cat))\n",
    "    print(\"  . selected features:\", len(dtf_features[dtf_features[\"y\"]==cat]))\n",
    "    print(\"  . top features:\", \",\".join(\n",
    "dtf_features[dtf_features[\"y\"]==cat][\"feature\"].values[:10]))\n",
    "    print(\" \")"
   ]
  },
  {
   "cell_type": "code",
   "execution_count": null,
   "metadata": {},
   "outputs": [],
   "source": []
  },
  {
   "cell_type": "markdown",
   "metadata": {
    "code_folding": []
   },
   "source": [
    "we will refit the vectorizer on the corpus by giving this new set of words as input\n",
    "-> produce a smaller feature matrix (8 features) and a shorter vocabulary"
   ]
  },
  {
   "cell_type": "markdown",
   "metadata": {},
   "source": [
    "vectorizer = feature_extraction.text.TfidfVectorizer(vocabulary=X_names)\n",
    "vectorizer.fit(corpus)\n",
    "X_stemm_train = vectorizer.transform(corpus)\n",
    "dic_vocabulary = vectorizer.vocabulary_"
   ]
  },
  {
   "cell_type": "markdown",
   "metadata": {},
   "source": [
    "dic_vocabulary"
   ]
  },
  {
   "cell_type": "markdown",
   "metadata": {},
   "source": [
    "sns.heatmap(X_stemm_train.todense()[:,np.random.randint(0,X_stemm_train.shape[1],100)]==0, vmin=0, vmax=1, cbar=False).set_title('Sparse Matrix Sample');"
   ]
  },
  {
   "cell_type": "markdown",
   "metadata": {},
   "source": [
    "def word_freq(corpus, ngrams=[1,2,3], top=10, figsize=(10,7)):\n",
    "    lst_tokens = nltk.tokenize.word_tokenize(corpus.str.cat(sep=\" \"))\n",
    "    ngrams = [ngrams] if type(ngrams) is int else ngrams"
   ]
  },
  {
   "cell_type": "markdown",
   "metadata": {
    "code_folding": []
   },
   "source": [
    "dtf_freq = pd.DataFrame()\n",
    "for y in data[\"prediction\"].unique():\n",
    "    print(\"# {}:\".format(y))\n",
    "    dtf_y = word_freq(corpus=data_stemm_train[data_stemm_train[\"prediction\"]==y][\"text\"], ngrams=[1,2,3], top=10, figsize=(10,7))\n",
    "    print(dtf_y)\n",
    "    dtf_y[\"y\"] = y\n",
    "    dtf_freq = dtf_freq.append(dtf_y)"
   ]
  },
  {
   "cell_type": "markdown",
   "metadata": {},
   "source": [
    "### Classification models using TFIDF Vectorizer¶"
   ]
  },
  {
   "cell_type": "code",
   "execution_count": null,
   "metadata": {},
   "outputs": [],
   "source": [
    "#X_train, X_test, y_train, y_test = train_test_split(data_lemm, data_lemm['prediction'], test_size = 0.3, random_state= RSEED)"
   ]
  },
  {
   "cell_type": "code",
   "execution_count": null,
   "metadata": {},
   "outputs": [],
   "source": [
    "# set pipeline for different algorithm\n",
    "def get_prediction(vectorizer, classifier, X_train, X_test, y_train, y_test):\n",
    "    pipe = Pipeline([('vector', vectorizer),\n",
    "                    ('model', classifier)])\n",
    "    model = pipe.fit(X_train, y_train)\n",
    "    y_pred = model.predict(X_test)\n",
    "    print(\"Accuarcy: {}\".format(round(accuracy_score(y_test, y_pred)*100,2)))\n",
    "    cm = confusion_matrix(y_test, y_pred)\n",
    "    print(\"Confusion Matrix: \\n\", cm)\n",
    "    print(\"Classification Report: \\n\", classification_report(y_test, y_pred))"
   ]
  },
  {
   "cell_type": "code",
   "execution_count": null,
   "metadata": {
    "code_folding": []
   },
   "outputs": [],
   "source": [
    "# using three different classifiers\n",
    "classifiers = LogisticRegression(), ComplementNB(), DecisionTreeClassifier()"
   ]
  },
  {
   "cell_type": "markdown",
   "metadata": {},
   "source": [
    "for classifier in classifiers:\n",
    "    print(\"\\n\\n\", classifier)\n",
    "    print(\"***Usng TFIDF Vectorizer*** with stemmed data\")\n",
    "    get_prediction(vectorizer, classifier, X_stemm_train, X_stemm_test, y_stemm_train, y_stemm_test)"
   ]
  },
  {
   "cell_type": "code",
   "execution_count": null,
   "metadata": {},
   "outputs": [],
   "source": []
  },
  {
   "cell_type": "code",
   "execution_count": null,
   "metadata": {},
   "outputs": [],
   "source": []
  },
  {
   "cell_type": "markdown",
   "metadata": {},
   "source": [
    "## Word Embedding with Word2Vec"
   ]
  },
  {
   "cell_type": "markdown",
   "metadata": {},
   "source": [
    "Word2Vec produces a vector space, typically of several hundred dimensions, with each unique word in the corpus such that words that share common contexts in the corpus are located close to one another in the space"
   ]
  },
  {
   "cell_type": "code",
   "execution_count": null,
   "metadata": {},
   "outputs": [],
   "source": [
    "# loading pre-trained model\n",
    "nlp = gensim_api.load(\"word2vec-google-news-300\")"
   ]
  },
  {
   "cell_type": "code",
   "execution_count": null,
   "metadata": {},
   "outputs": [],
   "source": [
    "# set corpus\n",
    "corpus = data_stemm_train[\"text\"]\n",
    "\n",
    "## create list of lists of unigrams\n",
    "lst_corpus = []\n",
    "for string in corpus:\n",
    "    lst_words = string.split()\n",
    "    lst_grams = [\" \".join(lst_words[i:i+1]) \n",
    "               for i in range(0, len(lst_words), 1)]\n",
    "    lst_corpus.append(lst_grams)\n",
    "\n",
    "## detect bigrams and trigrams\n",
    "bigrams_detector = gensim.models.phrases.Phrases(lst_corpus, \n",
    "                 delimiter=\" \".encode(), min_count=5, threshold=10)\n",
    "bigrams_detector = gensim.models.phrases.Phraser(bigrams_detector)\n",
    "trigrams_detector = gensim.models.phrases.Phrases(bigrams_detector[lst_corpus], \n",
    "            delimiter=\" \".encode(), min_count=5, threshold=10)\n",
    "trigrams_detector = gensim.models.phrases.Phraser(trigrams_detector)"
   ]
  },
  {
   "cell_type": "code",
   "execution_count": null,
   "metadata": {},
   "outputs": [],
   "source": [
    "## fit w2v\n",
    "nlp = gensim.models.word2vec.Word2Vec(lst_corpus, size=300,   \n",
    "            window=8, min_count=1, sg=1, iter=30)"
   ]
  },
  {
   "cell_type": "code",
   "execution_count": null,
   "metadata": {},
   "outputs": [],
   "source": [
    "# select word\n",
    "word = \"trump\"\n",
    "nlp[word].shape\n",
    "fig = plt.figure()\n",
    "\n",
    "## word embedding\n",
    "tot_words = [word] + [tupla[0] for tupla in \n",
    "                 nlp.most_similar(word, topn=20)]\n",
    "X = nlp[tot_words]\n",
    "\n",
    "## pca to reduce dimensionality from 300 to 3\n",
    "pca = manifold.TSNE(perplexity=40, n_components=3, init='pca')\n",
    "X = pca.fit_transform(X)\n",
    "\n",
    "## create dtf\n",
    "dtf_ = pd.DataFrame(X, index=tot_words, columns=[\"x\",\"y\",\"z\"])\n",
    "dtf_[\"input\"] = 0\n",
    "dtf_[\"input\"].iloc[0:1] = 1\n",
    "\n",
    "## plot 3d\n",
    "from mpl_toolkits.mplot3d import Axes3D\n",
    "ax = fig.add_subplot(111, projection='3d')\n",
    "ax.scatter(dtf_[dtf_[\"input\"]==0]['x'], \n",
    "           dtf_[dtf_[\"input\"]==0]['y'], \n",
    "           dtf_[dtf_[\"input\"]==0]['z'], c=\"black\")\n",
    "ax.scatter(dtf_[dtf_[\"input\"]==1]['x'], \n",
    "           dtf_[dtf_[\"input\"]==1]['y'], \n",
    "           dtf_[dtf_[\"input\"]==1]['z'], c=\"red\")\n",
    "ax.set(xlabel=None, ylabel=None, zlabel=None, xticklabels=[], \n",
    "       yticklabels=[], zticklabels=[])\n",
    "for label, row in dtf_[[\"x\",\"y\",\"z\"]].iterrows():\n",
    "    x, y, z = row\n",
    "    ax.text(x, y, z, s=label)"
   ]
  },
  {
   "cell_type": "markdown",
   "metadata": {},
   "source": [
    "- Transform corpus into padded sequences of word ids to get a feature matrix.\n",
    "- Create an embedding matrix so that the vector of the word with id N is located at the Nth row.\n",
    "- Build a neural network with an embedding layer that weighs every word in the sequences with the   corresponding vector."
   ]
  },
  {
   "cell_type": "code",
   "execution_count": null,
   "metadata": {},
   "outputs": [],
   "source": [
    "## tokenize text\n",
    "tokenizer = kprocessing.text.Tokenizer(lower=True, split=' ', \n",
    "                     oov_token=\"NaN\", \n",
    "                     filters='!\"#$%&()*+,-./:;<=>?@[\\\\]^_`{|}~\\t\\n')\n",
    "tokenizer.fit_on_texts(lst_corpus)\n",
    "dic_vocabulary = tokenizer.word_index\n",
    "## create sequence\n",
    "lst_text2seq= tokenizer.texts_to_sequences(lst_corpus)\n",
    "## padding sequence\n",
    "x_train = kprocessing.sequence.pad_sequences(lst_text2seq, \n",
    "                    maxlen=15, padding=\"post\", truncating=\"post\")"
   ]
  },
  {
   "cell_type": "code",
   "execution_count": null,
   "metadata": {},
   "outputs": [],
   "source": [
    "print(x_train.shape)"
   ]
  },
  {
   "cell_type": "code",
   "execution_count": null,
   "metadata": {},
   "outputs": [],
   "source": [
    "sns.heatmap(x_train==0, vmin=0, vmax=1, cbar=False)\n",
    "plt.show()"
   ]
  },
  {
   "cell_type": "code",
   "execution_count": null,
   "metadata": {},
   "outputs": [],
   "source": [
    "# have a look how it works\n",
    "\n",
    "i = 0\n",
    "\n",
    "## list of text: [\"I like this\", ...]\n",
    "len_txt = len(data_stemm_train[\"text\"].iloc[i].split())\n",
    "print(\"from: \", data_stemm_train[\"text\"].iloc[i], \"| len:\", len_txt)\n",
    "\n",
    "## sequence of token ids: [[1, 2, 3], ...]\n",
    "len_tokens = len(x_train[i])\n",
    "print(\"to: \", x_train[i], \"| len:\", len(x_train[i]))\n",
    "\n",
    "## vocabulary: {\"I\":1, \"like\":2, \"this\":3, ...}\n",
    "print(\"check: \", data_stemm_train[\"text\"].iloc[i].split()[0], \n",
    "      \" -- idx in vocabulary -->\", \n",
    "      dic_vocabulary[data_stemm_train[\"text\"].iloc[i].split()[0]])\n",
    "\n",
    "print(\"vocabulary: \", dict(list(dic_vocabulary.items())[0:5]), \"... (padding element, 0)\")\n"
   ]
  },
  {
   "cell_type": "code",
   "execution_count": null,
   "metadata": {},
   "outputs": [],
   "source": [
    "# do the same for test data\n",
    "corpus = data_stemm_test['text']\n",
    "\n",
    "## create list of n-grams\n",
    "lst_corpus = []\n",
    "for string in corpus:\n",
    "    lst_words = string.split()\n",
    "    lst_grams = [\" \".join(lst_words[i:i+1]) for i in range(0, \n",
    "                 len(lst_words), 1)]\n",
    "    lst_corpus.append(lst_grams)\n",
    "    \n",
    "## detect common bigrams and trigrams using the fitted detectors\n",
    "lst_corpus = list(bigrams_detector[lst_corpus])\n",
    "lst_corpus = list(trigrams_detector[lst_corpus])\n",
    "## text to sequence with the fitted tokenizer\n",
    "lst_text2seq = tokenizer.texts_to_sequences(lst_corpus)\n",
    "\n",
    "## padding sequence\n",
    "x_test = kprocessing.sequence.pad_sequences(lst_text2seq, maxlen=15,\n",
    "             padding=\"post\", truncating=\"post\")"
   ]
  },
  {
   "cell_type": "code",
   "execution_count": null,
   "metadata": {},
   "outputs": [],
   "source": [
    "#matrix of embedding that will be used as a weight matrix in the neural network classifier\n",
    "## start the matrix (length of vocabulary x vector size) with all 0s\n",
    "embeddings = np.zeros((len(dic_vocabulary)+1, 300))\n",
    "for word,idx in dic_vocabulary.items():\n",
    "    ## update the row with vector\n",
    "    try:\n",
    "        embeddings[idx] =  nlp[word]\n",
    "    ## if word not in model then skip and the row stays all 0s\n",
    "    except:\n",
    "        pass"
   ]
  },
  {
   "cell_type": "code",
   "execution_count": null,
   "metadata": {},
   "outputs": [],
   "source": [
    "embeddings.shape"
   ]
  },
  {
   "cell_type": "code",
   "execution_count": null,
   "metadata": {},
   "outputs": [],
   "source": [
    "word = \"trump\"\n",
    "print(\"dic[word]:\", dic_vocabulary[word], \"|idx\")\n",
    "print(\"embeddings[idx]:\", embeddings[dic_vocabulary[word]].shape, \n",
    "      \"|vector\")"
   ]
  },
  {
   "cell_type": "markdown",
   "metadata": {},
   "source": [
    "### Neural Network"
   ]
  },
  {
   "cell_type": "code",
   "execution_count": null,
   "metadata": {},
   "outputs": [],
   "source": [
    "## code attention layer\n",
    "def attention_layer(inputs, neurons):\n",
    "    x = layers.Permute((2,1))(inputs)\n",
    "    x = layers.Dense(neurons, activation=\"softmax\")(x)\n",
    "    x = layers.Permute((2,1), name=\"attention\")(x)\n",
    "    x = layers.multiply([inputs, x])\n",
    "    return x\n",
    "\n",
    "## input\n",
    "x_in = layers.Input(shape=(15,))\n",
    "## embedding\n",
    "x = layers.Embedding(input_dim=embeddings.shape[0],  \n",
    "                     output_dim=embeddings.shape[1], \n",
    "                     weights=[embeddings],\n",
    "                     input_length=15, trainable=False)(x_in)\n",
    "## apply attention\n",
    "x = attention_layer(x, neurons=15)\n",
    "## 2 layers of bidirectional lstm\n",
    "x = layers.Bidirectional(layers.LSTM(units=15, dropout=0.2, \n",
    "                         return_sequences=True))(x)\n",
    "x = layers.Bidirectional(layers.LSTM(units=15, dropout=0.2))(x)\n",
    "## final dense layers\n",
    "x = layers.Dense(64, activation='relu')(x)\n",
    "y_out = layers.Dense(3, activation='softmax')(x)\n",
    "## compile\n",
    "model = models.Model(x_in, y_out)\n",
    "model.compile(loss='sparse_categorical_crossentropy',\n",
    "              optimizer='adam', metrics=['accuracy'])\n",
    "\n",
    "model.summary()"
   ]
  },
  {
   "cell_type": "markdown",
   "metadata": {},
   "source": [
    "Train the model and check the performance on a subset of the training set used for validation before testing it on the actual test set"
   ]
  },
  {
   "cell_type": "code",
   "execution_count": null,
   "metadata": {},
   "outputs": [],
   "source": [
    "## encode y\n",
    "dic_y_mapping = {n:label for n,label in \n",
    "                 enumerate(np.unique(y_train))}\n",
    "inverse_dic = {v:k for k,v in dic_y_mapping.items()}\n",
    "y_train = np.array([inverse_dic[y] for y in y_train])\n",
    "## train\n",
    "training = model.fit(x=x_train, y=y_train, batch_size=256, \n",
    "                     epochs=10, shuffle=True, verbose=0, \n",
    "                     validation_split=0.3)\n",
    "## plot loss and accuracy\n",
    "metrics = [k for k in training.history.keys() if (\"loss\" not in k) and (\"val\" not in k)]\n",
    "fig, ax = plt.subplots(nrows=1, ncols=2, sharey=True)\n",
    "ax[0].set(title=\"Training\")\n",
    "ax11 = ax[0].twinx()\n",
    "ax[0].plot(training.history['loss'], color='black')\n",
    "ax[0].set_xlabel('Epochs')\n",
    "ax[0].set_ylabel('Loss', color='black')\n",
    "for metric in metrics:\n",
    "    ax11.plot(training.history[metric], label=metric)\n",
    "ax11.set_ylabel(\"Score\", color='steelblue')\n",
    "ax11.legend()\n",
    "ax[1].set(title=\"Validation\")\n",
    "ax22 = ax[1].twinx()\n",
    "ax[1].plot(training.history['val_loss'], color='black')\n",
    "ax[1].set_xlabel('Epochs')\n",
    "ax[1].set_ylabel('Loss', color='black')\n",
    "for metric in metrics:\n",
    "     ax22.plot(training.history['val_'+metric], label=metric)\n",
    "ax22.set_ylabel(\"Score\", color=\"steelblue\")\n",
    "plt.show()"
   ]
  },
  {
   "cell_type": "code",
   "execution_count": null,
   "metadata": {},
   "outputs": [],
   "source": [
    "#show model \n",
    "tf.keras.utils.plot_model(model, show_shapes=True)"
   ]
  },
  {
   "cell_type": "code",
   "execution_count": null,
   "metadata": {},
   "outputs": [],
   "source": [
    "## test data\n",
    "predicted_prob = model.predict(x_test)\n",
    "predicted = [dic_y_mapping[np.argmax(pred)] for pred in \n",
    "             predicted_prob]"
   ]
  },
  {
   "cell_type": "code",
   "execution_count": null,
   "metadata": {},
   "outputs": [],
   "source": [
    "## encode y\n",
    "dic_y_mapping = {n:label for n,label in \n",
    "                 enumerate(np.unique(y_test))}\n",
    "inverse_dic = {v:k for k,v in dic_y_mapping.items()}\n",
    "y_test = np.array([inverse_dic[y] for y in y_test])\n",
    "## train\n",
    "training = model.fit(x=x_test, y=y_test, batch_size=256, \n",
    "                     epochs=10, shuffle=True, verbose=0, \n",
    "                     validation_split=0.3)\n",
    "## plot loss and accuracy\n",
    "metrics = [k for k in training.history.keys() if (\"loss\" not in k) and (\"val\" not in k)]\n",
    "fig, ax = plt.subplots(nrows=1, ncols=2, sharey=True)\n",
    "ax[0].set(title=\"Training\")\n",
    "ax11 = ax[0].twinx()\n",
    "ax[0].plot(training.history['loss'], color='black')\n",
    "ax[0].set_xlabel('Epochs')\n",
    "ax[0].set_ylabel('Loss', color='black')\n",
    "for metric in metrics:\n",
    "    ax11.plot(training.history[metric], label=metric)\n",
    "ax11.set_ylabel(\"Score\", color='steelblue')\n",
    "ax11.legend()\n",
    "ax[1].set(title=\"Validation\")\n",
    "ax22 = ax[1].twinx()\n",
    "ax[1].plot(training.history['val_loss'], color='black')\n",
    "ax[1].set_xlabel('Epochs')\n",
    "ax[1].set_ylabel('Loss', color='black')\n",
    "for metric in metrics:\n",
    "     ax22.plot(training.history['val_'+metric], label=metric)\n",
    "ax22.set_ylabel(\"Score\", color=\"steelblue\")\n",
    "plt.show()"
   ]
  },
  {
   "cell_type": "markdown",
   "metadata": {},
   "source": [
    "Put an Attention layer in the neural network to extract the weights of each word and understand how much those contributed to classify an instance. So I’ll try to use Attention weights to build an explainer (similar to the one seen in the previous section):"
   ]
  },
  {
   "cell_type": "code",
   "execution_count": null,
   "metadata": {},
   "outputs": [],
   "source": [
    "## select observation\n",
    "i = 42\n",
    "txt_instance = data_stemm_test[\"text\"].iloc[i]\n",
    "## check true value and predicted value\n",
    "print(\"True:\", y_test[i], \"--> Pred:\", predicted[i], \"| Prob:\", round(np.max(predicted_prob[i]),2))\n",
    "\n",
    "## show explanation\n",
    "### 1. preprocess input\n",
    "lst_corpus = []\n",
    "for string in [re.sub(r'[^\\w\\s]','', txt_instance.lower().strip())]:\n",
    "    lst_words = string.split()\n",
    "    lst_grams = [\" \".join(lst_words[i:i+1]) for i in range(0, \n",
    "                 len(lst_words), 1)]\n",
    "    lst_corpus.append(lst_grams)\n",
    "lst_corpus = list(bigrams_detector[lst_corpus])\n",
    "lst_corpus = list(trigrams_detector[lst_corpus])\n",
    "X_instance = kprocessing.sequence.pad_sequences(\n",
    "              tokenizer.texts_to_sequences(corpus), maxlen=15, \n",
    "              padding=\"post\", truncating=\"post\")\n",
    "### 2. get attention weights\n",
    "layer = [layer for layer in model.layers if \"attention\" in \n",
    "         layer.name][0]\n",
    "func = K.function([model.input], [layer.output])\n",
    "weights = func(X_instance)[0]\n",
    "weights = np.mean(weights, axis=2).flatten()\n",
    "### 3. rescale weights, remove null vector, map word-weight\n",
    "weights = preprocessing.MinMaxScaler(feature_range=(0,1)).fit_transform(np.array(weights).reshape(-1,1)).reshape(-1)\n",
    "#weights = [weights[n] for n,idx in enumerate(X_instance[0]) if idx \n",
    "#          != 0]\n",
    "dic_word_weigth = {word:weights[n] for n,word in \n",
    "                   enumerate(lst_corpus[0]) if word in \n",
    "                   tokenizer.word_index.keys()}\n",
    "### 4. barplot\n",
    "if len(dic_word_weigth) > 0:\n",
    "    dtf = pd.DataFrame.from_dict(dic_word_weigth, orient='index', \n",
    "                                columns=[\"score\"])\n",
    "    dtf.sort_values(by=\"score\", \n",
    "           ascending=True).tail(10).plot(kind=\"barh\", \n",
    "           legend=False).grid(axis='x')\n",
    "    plt.show()\n",
    "else:\n",
    "    print(\"--- No word recognized ---\")\n",
    "### 5. produce html visualization\n",
    "text = []\n",
    "for word in lst_corpus[0]:\n",
    "    weight = dic_word_weigth.get(word)\n",
    "    if weight is not None:\n",
    "         text.append('<b><span style=\"background-color:rgba(100,149,237,' + str(weight) + ');\">' + word + '</span></b>')\n",
    "    else:\n",
    "         text.append(word)\n",
    "text = ' '.join(text)\n",
    "### 6. visualize on notebook\n",
    "print(\"\\033[1m\"+\"Text with highlighted words\")\n",
    "from IPython.core.display import display, HTML\n",
    "display(HTML(text))"
   ]
  },
  {
   "cell_type": "markdown",
   "metadata": {},
   "source": [
    "## Language Model with BERT"
   ]
  },
  {
   "cell_type": "markdown",
   "metadata": {},
   "source": [
    "Language model overcomes the biggest limitation of the classic Word Embedding approach: polysemy disambiguation (a word with different meanings) is identified by just one vector\n",
    "\n",
    "Google’s BERT (Bidirectional Encoder Representations from Transformers, 2018) combines ELMO context embedding and several Transformers, plus it’s bidirectional (which was a big novelty for Transformers). The vector BERT assigns to a word is a function of the entire sentence, therefore, a word can have different vectors based on the contexts\n",
    "\n",
    "For Fine-tuning the pre-trained model (transfer learning), I use a lighter version of BERT, called Distil-BERT (-> https://huggingface.co/transformers/model_doc/distilbert.html)\n",
    "\n",
    "DistilBERT is a small, fast, cheap and light Transformer model trained by distilling Bert base. It has 40% less parameters than bert-base-uncased, runs 60% faster while preserving over 95% of Bert’s performances as measured on the GLUE language understanding benchmark."
   ]
  },
  {
   "cell_type": "code",
   "execution_count": null,
   "metadata": {},
   "outputs": [],
   "source": [
    "## bert tokenizer\n",
    "tokenizer = transformers.BertTokenizer.from_pretrained('bert-base-uncased', do_lower_case=True)\n",
    "## bert model\n",
    "nlp = transformers.TFBertModel.from_pretrained('bert-base-uncased')"
   ]
  },
  {
   "cell_type": "code",
   "execution_count": null,
   "metadata": {},
   "outputs": [],
   "source": [
    "## distil-bert tokenizer\n",
    "tokenizer = transformers.AutoTokenizer.from_pretrained('distilbert-base-uncased', do_lower_case=True)"
   ]
  },
  {
   "cell_type": "markdown",
   "metadata": {},
   "source": [
    "### Feature Engineering"
   ]
  },
  {
   "cell_type": "markdown",
   "metadata": {},
   "source": [
    "Please note that I’m using the raw text as corpus (so far I’ve been using the clean_text column)"
   ]
  },
  {
   "cell_type": "code",
   "execution_count": null,
   "metadata": {},
   "outputs": [],
   "source": [
    "corpus = data[\"text\"] #training data???\n",
    "maxlen = 50\n",
    "\n",
    "## add special tokens\n",
    "maxqnans = np.int((maxlen-20)/2)\n",
    "corpus_tokenized = [\"[CLS] \"+\n",
    "             \" \".join(tokenizer.tokenize(re.sub(r'[^\\w\\s]+|\\n', '', \n",
    "             str(txt).lower().strip()))[:maxqnans])+\n",
    "             \" [SEP] \" for txt in corpus]\n",
    "\n",
    "## generate masks\n",
    "masks = [[1]*len(txt.split(\" \")) + [0]*(maxlen - len(\n",
    "           txt.split(\" \"))) for txt in corpus_tokenized]\n",
    "    \n",
    "## padding\n",
    "txt2seq = [txt + \" [PAD]\"*(maxlen-len(txt.split(\" \"))) if len(txt.split(\" \")) != maxlen else txt for txt in corpus_tokenized]\n",
    "    \n",
    "## generate idx\n",
    "idx = [tokenizer.encode(seq.split(\" \")) for seq in txt2seq]\n",
    "    \n",
    "## generate segments\n",
    "segments = [] \n",
    "for seq in txt2seq:\n",
    "    temp, i = [], 0\n",
    "    for token in seq.split(\" \"):\n",
    "        temp.append(i)\n",
    "        if token == \"[SEP]\":\n",
    "             i += 1\n",
    "    segments.append(temp)\n",
    "## feature matrix\n",
    "X_train = [np.asarray(idx, dtype='int32'), \n",
    "           np.asarray(masks, dtype='int32'), \n",
    "           np.asarray(segments, dtype='int32')]"
   ]
  },
  {
   "cell_type": "code",
   "execution_count": null,
   "metadata": {},
   "outputs": [],
   "source": [
    "#X_train.shape()"
   ]
  },
  {
   "cell_type": "code",
   "execution_count": null,
   "metadata": {},
   "outputs": [],
   "source": [
    "i = 0\n",
    "print(\"txt: \", data[\"text\"].iloc[0])\n",
    "print(\"tokenized:\", [tokenizer.convert_ids_to_tokens(idx) for idx in X_train[0][i].tolist()])\n",
    "print(\"idx: \", X_train[0][i])\n",
    "print(\"mask: \", X_train[1][i])\n",
    "print(\"segment: \", X_train[2][i])"
   ]
  },
  {
   "cell_type": "code",
   "execution_count": null,
   "metadata": {},
   "outputs": [],
   "source": [
    "#same for test data\n",
    "corpus = data[\"text\"] ### TEST DATA!!!\n",
    "maxlen = 50\n",
    "\n",
    "## add special tokens\n",
    "maxqnans = np.int((maxlen-20)/2)\n",
    "corpus_tokenized = [\"[CLS] \"+\n",
    "             \" \".join(tokenizer.tokenize(re.sub(r'[^\\w\\s]+|\\n', '', \n",
    "             str(txt).lower().strip()))[:maxqnans])+\n",
    "             \" [SEP] \" for txt in corpus]\n",
    "\n",
    "## generate masks\n",
    "masks = [[1]*len(txt.split(\" \")) + [0]*(maxlen - len(\n",
    "           txt.split(\" \"))) for txt in corpus_tokenized]\n",
    "    \n",
    "## padding\n",
    "txt2seq = [txt + \" [PAD]\"*(maxlen-len(txt.split(\" \"))) if len(txt.split(\" \")) != maxlen else txt for txt in corpus_tokenized]\n",
    "    \n",
    "## generate idx\n",
    "idx = [tokenizer.encode(seq.split(\" \")) for seq in txt2seq]\n",
    "    \n",
    "## generate segments\n",
    "segments = [] \n",
    "for seq in txt2seq:\n",
    "    temp, i = [], 0\n",
    "    for token in seq.split(\" \"):\n",
    "        temp.append(i)\n",
    "        if token == \"[SEP]\":\n",
    "             i += 1\n",
    "    segments.append(temp)\n",
    "## feature matrix\n",
    "X_train = [np.asarray(idx, dtype='int32'), \n",
    "           np.asarray(masks, dtype='int32'), \n",
    "           np.asarray(segments, dtype='int32')]"
   ]
  },
  {
   "cell_type": "markdown",
   "metadata": {},
   "source": [
    "### Deep learning model with transfer learning"
   ]
  },
  {
   "cell_type": "markdown",
   "metadata": {},
   "source": [
    "- Summarize the output of BERT into one vector with Average Pooling \n",
    "- Add two final Dense layers to predict the probability of each news category"
   ]
  },
  {
   "cell_type": "code",
   "execution_count": null,
   "metadata": {},
   "outputs": [],
   "source": [
    "## inputs\n",
    "idx = layers.Input((50), dtype=\"int32\", name=\"input_idx\")\n",
    "masks = layers.Input((50), dtype=\"int32\", name=\"input_masks\")\n",
    "## pre-trained bert with config\n",
    "config = transformers.DistilBertConfig(dropout=0.2, \n",
    "           attention_dropout=0.2)\n",
    "config.output_hidden_states = False\n",
    "nlp = transformers.TFDistilBertModel.from_pretrained('distilbert-base-uncased', config=config)\n",
    "bert_out = nlp(idx, attention_mask=masks)[0]\n",
    "## fine-tuning\n",
    "x = layers.GlobalAveragePooling1D()(bert_out)\n",
    "x = layers.Dense(64, activation=\"relu\")(x)\n",
    "y_out = layers.Dense(len(np.unique(y_train)), \n",
    "                     activation='softmax')(x)\n",
    "## compile\n",
    "model = models.Model([idx, masks], y_out)\n",
    "for layer in model.layers[:3]:\n",
    "    layer.trainable = False\n",
    "model.compile(loss='sparse_categorical_crossentropy', \n",
    "              optimizer='adam', metrics=['accuracy'])\n",
    "model.summary()"
   ]
  },
  {
   "cell_type": "markdown",
   "metadata": {},
   "source": [
    "### Train, test, evaluate model"
   ]
  },
  {
   "cell_type": "code",
   "execution_count": null,
   "metadata": {},
   "outputs": [],
   "source": [
    "## encode y\n",
    "dic_y_mapping = {n:label for n,label in \n",
    "                 enumerate(np.unique(y_train))}\n",
    "inverse_dic = {v:k for k,v in dic_y_mapping.items()}\n",
    "y_train = np.array([inverse_dic[y] for y in y_train])\n",
    "## train\n",
    "training = model.fit(x=X_train, y=y_train, batch_size=64, \n",
    "                     epochs=1, shuffle=True, verbose=1, \n",
    "                     validation_split=0.3)"
   ]
  },
  {
   "cell_type": "code",
   "execution_count": null,
   "metadata": {},
   "outputs": [],
   "source": [
    "## plot loss and accuracy\n",
    "metrics = [k for k in training.history.keys() if (\"loss\" not in k) and (\"val\" not in k)]\n",
    "fig, ax = plt.subplots(nrows=1, ncols=2, sharey=True)\n",
    "ax[0].set(title=\"Training\")\n",
    "ax11 = ax[0].twinx()\n",
    "ax[0].plot(training.history['loss'], color='black')\n",
    "ax[0].set_xlabel('Epochs')\n",
    "ax[0].set_ylabel('Loss', color='black')\n",
    "for metric in metrics:\n",
    "    ax11.plot(training.history[metric], label=metric)\n",
    "ax11.set_ylabel(\"Score\", color='steelblue')\n",
    "ax11.legend()\n",
    "ax[1].set(title=\"Validation\")\n",
    "ax22 = ax[1].twinx()\n",
    "ax[1].plot(training.history['val_loss'], color='black')\n",
    "ax[1].set_xlabel('Epochs')\n",
    "ax[1].set_ylabel('Loss', color='black')\n",
    "for metric in metrics:\n",
    "     ax22.plot(training.history['val_'+metric], label=metric)\n",
    "ax22.set_ylabel(\"Score\", color=\"steelblue\")\n",
    "plt.show()"
   ]
  },
  {
   "cell_type": "code",
   "execution_count": null,
   "metadata": {},
   "outputs": [],
   "source": [
    "#test data\n",
    "predicted_prob = model.predict(X_test)\n",
    "predicted = [dic_y_mapping[np.argmax(pred)] for pred in \n",
    "             predicted_prob]"
   ]
  },
  {
   "cell_type": "code",
   "execution_count": null,
   "metadata": {},
   "outputs": [],
   "source": []
  },
  {
   "cell_type": "code",
   "execution_count": null,
   "metadata": {},
   "outputs": [],
   "source": []
  },
  {
   "cell_type": "code",
   "execution_count": null,
   "metadata": {},
   "outputs": [],
   "source": []
  },
  {
   "cell_type": "code",
   "execution_count": null,
   "metadata": {},
   "outputs": [],
   "source": []
  },
  {
   "cell_type": "code",
   "execution_count": null,
   "metadata": {},
   "outputs": [],
   "source": []
  },
  {
   "cell_type": "code",
   "execution_count": null,
   "metadata": {},
   "outputs": [],
   "source": []
  }
 ],
 "metadata": {
  "kernelspec": {
   "display_name": "Python [conda env:nf] *",
   "language": "python",
   "name": "conda-env-nf-py"
  },
  "language_info": {
   "codemirror_mode": {
    "name": "ipython",
    "version": 3
   },
   "file_extension": ".py",
   "mimetype": "text/x-python",
   "name": "python",
   "nbconvert_exporter": "python",
   "pygments_lexer": "ipython3",
   "version": "3.6.10"
  },
  "toc": {
   "base_numbering": 1,
   "nav_menu": {},
   "number_sections": true,
   "sideBar": true,
   "skip_h1_title": false,
   "title_cell": "Table of Contents",
   "title_sidebar": "Contents",
   "toc_cell": false,
   "toc_position": {},
   "toc_section_display": true,
   "toc_window_display": true
  }
 },
 "nbformat": 4,
 "nbformat_minor": 4
}
