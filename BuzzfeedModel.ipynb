{
 "cells": [
  {
   "cell_type": "markdown",
   "metadata": {},
   "source": [
    "# Fake News prediction"
   ]
  },
  {
   "cell_type": "markdown",
   "metadata": {},
   "source": [
    "What are fake news?\n",
    "..."
   ]
  },
  {
   "cell_type": "markdown",
   "metadata": {},
   "source": [
    "## Libary import"
   ]
  },
  {
   "cell_type": "code",
   "execution_count": 701,
   "metadata": {},
   "outputs": [],
   "source": [
    "reset -fs"
   ]
  },
  {
   "cell_type": "code",
   "execution_count": 702,
   "metadata": {},
   "outputs": [],
   "source": [
    "%matplotlib inline\n",
    "import pandas as pd\n",
    "import numpy as np\n",
    "import matplotlib.pyplot as plt\n",
    "import seaborn as sns\n",
    "from numpy import percentile"
   ]
  },
  {
   "cell_type": "markdown",
   "metadata": {},
   "source": [
    "## Loading data"
   ]
  },
  {
   "cell_type": "code",
   "execution_count": 703,
   "metadata": {},
   "outputs": [
    {
     "data": {
      "text/plain": [
       "mostly true                  1264\n",
       "mixture of true and false     212\n",
       "mostly false                   87\n",
       "no factual content             64\n",
       "Name: veracity, dtype: int64"
      ]
     },
     "execution_count": 703,
     "metadata": {},
     "output_type": "execute_result"
    }
   ],
   "source": [
    "data_o = pd.read_csv('overview.csv')\n",
    "data_o.veracity.value_counts()"
   ]
  },
  {
   "cell_type": "code",
   "execution_count": 704,
   "metadata": {},
   "outputs": [],
   "source": [
    "data = pd.read_csv('BuzzData.csv')"
   ]
  },
  {
   "cell_type": "code",
   "execution_count": 705,
   "metadata": {},
   "outputs": [
    {
     "data": {
      "text/html": [
       "<div>\n",
       "<style scoped>\n",
       "    .dataframe tbody tr th:only-of-type {\n",
       "        vertical-align: middle;\n",
       "    }\n",
       "\n",
       "    .dataframe tbody tr th {\n",
       "        vertical-align: top;\n",
       "    }\n",
       "\n",
       "    .dataframe thead th {\n",
       "        text-align: right;\n",
       "    }\n",
       "</style>\n",
       "<table border=\"1\" class=\"dataframe\">\n",
       "  <thead>\n",
       "    <tr style=\"text-align: right;\">\n",
       "      <th></th>\n",
       "      <th>article</th>\n",
       "      <th>prediction</th>\n",
       "    </tr>\n",
       "  </thead>\n",
       "  <tbody>\n",
       "    <tr>\n",
       "      <th>747</th>\n",
       "      <td>It was only a matter of time before the milita...</td>\n",
       "      <td>3</td>\n",
       "    </tr>\n",
       "    <tr>\n",
       "      <th>842</th>\n",
       "      <td>After collapsing just before trying to step ...</td>\n",
       "      <td>1</td>\n",
       "    </tr>\n",
       "    <tr>\n",
       "      <th>1076</th>\n",
       "      <td>“Rather than end dangerous politically-driven ...</td>\n",
       "      <td>0</td>\n",
       "    </tr>\n",
       "    <tr>\n",
       "      <th>949</th>\n",
       "      <td>As we know, the final United Nations General A...</td>\n",
       "      <td>3</td>\n",
       "    </tr>\n",
       "    <tr>\n",
       "      <th>1524</th>\n",
       "      <td>A powerful exchange between a veteran and a po...</td>\n",
       "      <td>3</td>\n",
       "    </tr>\n",
       "  </tbody>\n",
       "</table>\n",
       "</div>"
      ],
      "text/plain": [
       "                                                article  prediction\n",
       "747   It was only a matter of time before the milita...           3\n",
       "842     After collapsing just before trying to step ...           1\n",
       "1076  “Rather than end dangerous politically-driven ...           0\n",
       "949   As we know, the final United Nations General A...           3\n",
       "1524  A powerful exchange between a veteran and a po...           3"
      ]
     },
     "execution_count": 705,
     "metadata": {},
     "output_type": "execute_result"
    }
   ],
   "source": [
    "data.sample(5)"
   ]
  },
  {
   "cell_type": "code",
   "execution_count": 706,
   "metadata": {},
   "outputs": [
    {
     "data": {
      "text/plain": [
       "\"There have been so many deaths in country music over the past couple of months, and we thought that we were going to have to say goodbye to another legend Saturday night. It was a normal Saturday night at the Cornstock Concert on the Hill in Garnett, Kansas until Eddie Montgomery collapsed on stage in the middle of his performance. Many of you probably know the country star from the country duo Montgomery Gentry.  Montgomery Gentry was founded in 1999 when Eddie Montgomery and Troy Gentry came together and graced us all with their talents. The country duo has released 6 studio albums since their big debut and has had several No. 1 hits such as “If You Ever Stop Loving Me”, “Something to Be Proud Of”, “Lucky Man”, “Back When I Knew It All” and “Roll with Me”. The duo rose to fame shortly after the start of their career and they have continued to be a country favorite over the years. The duo was performing at their concert Saturday (September 24th) when Eddie Montgomery collapsed on the stage.  The medics immediately rushed to the stage and it was just moments later that he was walking off. The concert continued as Troy Gentry lead the band out. It was just four songs later that Eddie walked back out on the stage and apparently told the audience that he was not feeling well all day and that he was very dehydrated. And just like anything else, rumors started. Fans all over were saying that Eddie had a heart attack right there on stage. Apparently, they weren’t listening or they didn’t believe that he was actually dehydrated. The next morning on the duo’s Twitter they announced that Eddie was doing well and that it was definitely not a heart attack. There are false reports floating around that Eddie had a heart attack last night. NOT TRUE. He was dehydrated and returned to the stage. — Montgomery Gentry (@mgunderground) September 25, 2016  Eddie wanted to reassure everyone that he was indeed alive and that he didn’t have a heart attack, so a couple of hours after the initial post he took it upon himself to post a photo of him and his wife. Not only that, but he made sure that all of his fans knew that he was drinking PLENTY of water – doing his best to prevent the same thing from happening again. Eddie and Jennifer send their regards from Key West and thanks for all of the prayers and well wishes. And he's drinking plenty of H20! pic.twitter.com/xCJlTZCIHX — Montgomery Gentry (@mgunderground) September 25, 2016  We are so glad that Eddie is feeling better! I can’t imagine how scary this was for him and his fans!  We are praying for you Eddie!\""
      ]
     },
     "execution_count": 706,
     "metadata": {},
     "output_type": "execute_result"
    }
   ],
   "source": [
    "data.article[42]"
   ]
  },
  {
   "cell_type": "markdown",
   "metadata": {},
   "source": [
    "## Looking at data"
   ]
  },
  {
   "cell_type": "markdown",
   "metadata": {},
   "source": [
    "###  Mean of length article (in words)"
   ]
  },
  {
   "cell_type": "code",
   "execution_count": 707,
   "metadata": {},
   "outputs": [],
   "source": [
    "for x in data.article:\n",
    "    len_article = np.mean(len(x.split()))"
   ]
  },
  {
   "cell_type": "code",
   "execution_count": 708,
   "metadata": {},
   "outputs": [
    {
     "data": {
      "text/plain": [
       "215.0"
      ]
     },
     "execution_count": 708,
     "metadata": {},
     "output_type": "execute_result"
    }
   ],
   "source": [
    "len_article"
   ]
  },
  {
   "cell_type": "markdown",
   "metadata": {},
   "source": [
    "### Distribution of article (by length)"
   ]
  },
  {
   "cell_type": "code",
   "execution_count": 709,
   "metadata": {},
   "outputs": [],
   "source": [
    "# create column for length of article\n",
    "dist_article = []\n",
    "for x in data.article:\n",
    "    dist_article.append(len(x.split()))\n",
    "data['Article_length'] = dist_article"
   ]
  },
  {
   "cell_type": "code",
   "execution_count": 710,
   "metadata": {},
   "outputs": [
    {
     "data": {
      "image/png": "[encoded data removed]",
      "text/plain": [
       "<Figure size 576x360 with 1 Axes>"
      ]
     },
     "metadata": {
      "needs_background": "light"
     },
     "output_type": "display_data"
    }
   ],
   "source": [
    "plt.figure(figsize=(8,5))\n",
    "ax = sns.distplot(dist_article)"
   ]
  },
  {
   "cell_type": "markdown",
   "metadata": {},
   "source": [
    "### Distribution by subject"
   ]
  },
  {
   "cell_type": "code",
   "execution_count": null,
   "metadata": {},
   "outputs": [],
   "source": []
  },
  {
   "cell_type": "markdown",
   "metadata": {},
   "source": [
    "# Data cleaning"
   ]
  },
  {
   "cell_type": "markdown",
   "metadata": {},
   "source": [
    "- check for missing values\n",
    "- remove empty article\n",
    "- check for duplicated article\n",
    "- combine categories\n",
    "- remove outlier"
   ]
  },
  {
   "cell_type": "code",
   "execution_count": 711,
   "metadata": {},
   "outputs": [
    {
     "data": {
      "text/plain": [
       "article           0\n",
       "prediction        0\n",
       "Article_length    0\n",
       "dtype: int64"
      ]
     },
     "execution_count": 711,
     "metadata": {},
     "output_type": "execute_result"
    }
   ],
   "source": [
    "#check for missing values\n",
    "data.isnull().sum()"
   ]
  },
  {
   "cell_type": "code",
   "execution_count": 712,
   "metadata": {
    "code_folding": []
   },
   "outputs": [
    {
     "name": "stdout",
     "output_type": "stream",
     "text": [
      "14\n",
      "                           article  prediction  Article_length\n",
      "94    The document has moved here.           3               5\n",
      "145   The document has moved here.           3               5\n",
      "308   The document has moved here.           1               5\n",
      "429   The document has moved here.           0               5\n",
      "724   The document has moved here.           3               5\n",
      "846   The document has moved here.           2               5\n",
      "908   The document has moved here.           3               5\n",
      "913   The document has moved here.           0               5\n",
      "1003  The document has moved here.           3               5\n",
      "1081  The document has moved here.           2               5\n",
      "1137  The document has moved here.           1               5\n",
      "1335  The document has moved here.           3               5\n",
      "1456  The document has moved here.           3               5\n",
      "1461  The document has moved here.           2               5\n"
     ]
    }
   ],
   "source": [
    "#find empty article \n",
    "empty_list = data[data['article'] == 'The document has moved here.']\n",
    "print(len(empty_list))\n",
    "print(empty_list)"
   ]
  },
  {
   "cell_type": "code",
   "execution_count": 713,
   "metadata": {},
   "outputs": [
    {
     "data": {
      "text/plain": [
       "(1590, 3)"
      ]
     },
     "execution_count": 713,
     "metadata": {},
     "output_type": "execute_result"
    }
   ],
   "source": [
    "# drop empty articles\n",
    "data.drop(data[data['article'] == 'The document has moved here.'].index , inplace=True)\n",
    "data.shape"
   ]
  },
  {
   "cell_type": "code",
   "execution_count": 714,
   "metadata": {},
   "outputs": [
    {
     "name": "stdout",
     "output_type": "stream",
     "text": [
      "34\n",
      "                                                article  prediction  \\\n",
      "223   (CNN)The circus of politics can often be a dis...           2   \n",
      "231   (CNN)Hillary Clinton forced Donald Trump onto ...           3   \n",
      "276   (CNN)Debate stages have long doubled as presid...           3   \n",
      "332   Washington (CNN)Republicans are preparing for ...           3   \n",
      "376   Washington (CNN)The battle over gun rights ret...           3   \n",
      "474   (CNN)Ukrainian President Petro Poroshenko says...           3   \n",
      "570   Washington (CNN)New York City Mayor Bill de Bl...           3   \n",
      "734   WashingtonSince we last updated the CNN battle...           3   \n",
      "771   (CNN)Sen. Jeff Sessions pilloried former Presi...           3   \n",
      "829   Washington (CNN)The cast of \"The West Wing\" is...           3   \n",
      "1023  (CNN)Even if their preferred candidate wins, a...           3   \n",
      "1128  (CNN)Hillary Clinton holds a solid 6-point lea...           3   \n",
      "1158  Washington (CNN)Hillary Clinton and Donald Tru...           3   \n",
      "1162  Washington (CNN)The cast of \"The West Wing\" is...           3   \n",
      "1209  Washington (CNN)The National Rifle Association...           3   \n",
      "1228  Washington (CNN)A series of high-profile breac...           3   \n",
      "1229  (CNN)Even if their preferred candidate wins, a...           3   \n",
      "1326  (CNN)Drawing enormous support from the state's...           3   \n",
      "1327  Washington (CNN)Rep. John Lewis, a pioneer in ...           3   \n",
      "1328  (CNN)Hillary Clinton forced Donald Trump onto ...           3   \n",
      "1330  (CNN)A group of 375 \"concerned\" scientists -- ...           3   \n",
      "1366  Washington (CNN)Senate Minority Leader Harry R...           3   \n",
      "1370  Washington (CNN)Former \"Miss Universe\" Alicia ...           3   \n",
      "1378  United Nations (CNN)President Barack Obama too...           3   \n",
      "1411  (CNN)Hillary Clinton's campaign manager said W...           3   \n",
      "1427  United Nations (CNN)President Barack Obama too...           3   \n",
      "1466  Washington (CNN)With two months to go before E...           3   \n",
      "1467  (CNN)President Barack Obama sharply criticized...           3   \n",
      "1515  Washington (CNN)The National Rifle Association...           3   \n",
      "1529  (CNN)Michelle Obama on Tuesday joked about the...           3   \n",
      "1531  New York (CNN)President Barack Obama confronte...           3   \n",
      "1532  WashingtonSince we last updated the CNN battle...           3   \n",
      "1581  (CNN)Former President Bill Clinton sought to a...           3   \n",
      "1587  (CNN)Former President George H.W. Bush said Mo...           0   \n",
      "\n",
      "      Article_length  \n",
      "223              602  \n",
      "231             1154  \n",
      "276              887  \n",
      "332             1285  \n",
      "376             1023  \n",
      "474              517  \n",
      "570              352  \n",
      "734              844  \n",
      "771              405  \n",
      "829              203  \n",
      "1023             305  \n",
      "1128             325  \n",
      "1158             296  \n",
      "1162             203  \n",
      "1209             360  \n",
      "1228            1050  \n",
      "1229             305  \n",
      "1326             254  \n",
      "1327             359  \n",
      "1328            1154  \n",
      "1330             337  \n",
      "1366             431  \n",
      "1370             797  \n",
      "1378            1114  \n",
      "1411             553  \n",
      "1427            1114  \n",
      "1466             777  \n",
      "1467             555  \n",
      "1515             360  \n",
      "1529             323  \n",
      "1531             881  \n",
      "1532             844  \n",
      "1581             356  \n",
      "1587             978  \n"
     ]
    }
   ],
   "source": [
    "# find dupilcated article\n",
    "dupl = data[data.duplicated(['article'])]\n",
    "print(len(dupl))\n",
    "print(dupl)"
   ]
  },
  {
   "cell_type": "code",
   "execution_count": 715,
   "metadata": {},
   "outputs": [
    {
     "data": {
      "text/plain": [
       "(1557, 3)"
      ]
     },
     "execution_count": 715,
     "metadata": {},
     "output_type": "execute_result"
    }
   ],
   "source": [
    "# remove duplicate\n",
    "data.drop_duplicates(keep='first', inplace=True)\n",
    "data.shape"
   ]
  },
  {
   "cell_type": "code",
   "execution_count": 716,
   "metadata": {},
   "outputs": [],
   "source": [
    "#removes = data.article.isin([\"EDITOR’S NOTE:\"]).index"
   ]
  },
  {
   "cell_type": "code",
   "execution_count": 717,
   "metadata": {},
   "outputs": [],
   "source": [
    "#CNN"
   ]
  },
  {
   "cell_type": "code",
   "execution_count": 718,
   "metadata": {},
   "outputs": [
    {
     "data": {
      "text/plain": [
       "3    1210\n",
       "0     206\n",
       "1      80\n",
       "2      61\n",
       "Name: prediction, dtype: int64"
      ]
     },
     "execution_count": 718,
     "metadata": {},
     "output_type": "execute_result"
    }
   ],
   "source": [
    "#combine and drop categories of prediciton\n",
    "data.prediction.unique()\n",
    "data.prediction.value_counts()"
   ]
  },
  {
   "cell_type": "code",
   "execution_count": 719,
   "metadata": {},
   "outputs": [],
   "source": [
    "#data.prediction.drop(['2'])\n",
    "index_2 = data[data['prediction'] == 2].index\n",
    "data.drop(index_2, inplace=True)"
   ]
  },
  {
   "cell_type": "code",
   "execution_count": 720,
   "metadata": {},
   "outputs": [
    {
     "data": {
      "text/plain": [
       "(1496, 3)"
      ]
     },
     "execution_count": 720,
     "metadata": {},
     "output_type": "execute_result"
    }
   ],
   "source": [
    "data.shape"
   ]
  },
  {
   "cell_type": "code",
   "execution_count": 721,
   "metadata": {},
   "outputs": [
    {
     "data": {
      "text/plain": [
       "0    1210\n",
       "1     286\n",
       "Name: prediction, dtype: int64"
      ]
     },
     "execution_count": 721,
     "metadata": {},
     "output_type": "execute_result"
    }
   ],
   "source": [
    "# combine prediction of mostly & mixture of true and false since we are looking for fake news\n",
    "# -> dataset with prediction: 0 = mostly True news\n",
    "#                             1 = mostly Fake News and article with some fake news\n",
    "data.prediction.replace(0, 1, inplace = True)\n",
    "data.prediction.replace(3, 0, inplace = True)\n",
    "data.prediction.value_counts()"
   ]
  },
  {
   "cell_type": "markdown",
   "metadata": {},
   "source": [
    "## Handling outliers\n",
    "since we know that the distribution of length of words in the sample is not Gaussian,\n",
    "we can not use the standard deviation of the sample as a cut-off \n",
    "therefore we use Interquartile Range Method"
   ]
  },
  {
   "cell_type": "code",
   "execution_count": 737,
   "metadata": {},
   "outputs": [
    {
     "name": "stdout",
     "output_type": "stream",
     "text": [
      "Percentiles: 25th=307.000, 75th=599.500, IQR=292.500\n",
      "Identified outliers: 161\n",
      "Non-outlier observations: 1335\n"
     ]
    }
   ],
   "source": [
    "# calculate interquartile range\n",
    "q25, q75 = percentile(data.Article_length, 25), percentile(data.Article_length, 75)\n",
    "iqr = q75 - q25\n",
    "print('Percentiles: 25th=%.3f, 75th=%.3f, IQR=%.3f' % (q25, q75, iqr))\n",
    "# calculate the outlier cutoff\n",
    "cut_off = iqr * 1.5\n",
    "lower, upper = q25 - cut_off, q75 + cut_off\n",
    "# identify outliers\n",
    "outliers = [idx for idx,x in data.Article_length.iteritems() if x < lower or x > upper]\n",
    "print('Identified outliers: %d' % len(outliers))\n",
    "# remove outliers\n",
    "outliers_removed = [x for x in data.Article_length if x >= lower and x <= upper]\n",
    "print('Non-outlier observations: %d' % len(outliers_removed))"
   ]
  },
  {
   "cell_type": "code",
   "execution_count": 738,
   "metadata": {},
   "outputs": [
    {
     "data": {
      "text/plain": [
       "161"
      ]
     },
     "execution_count": 738,
     "metadata": {},
     "output_type": "execute_result"
    }
   ],
   "source": [
    "len(outliers)"
   ]
  },
  {
   "cell_type": "code",
   "execution_count": 745,
   "metadata": {},
   "outputs": [
    {
     "ename": "KeyError",
     "evalue": "'[  14   18   22   30   45   58   79   88  121  137  146  153  155  166\\n  181  195  211  221  230  248  255  259  283  312  354  380  383  410\\n  425  426  432  450  460  473  475  483  493  498  503  507  513  519\\n  532  542  559  573  580  595  599  601  607  611  614  616  617  619\\n  636  638  642  651  660  664  670  671  676  681  682  685  691  693\\n  711  712  736  740  757  770  796  800  806  809  813  818  820  851\\n  857  863  879  881  884  902  914  915  928  929  955  964  965  966\\n  970  973 1001 1017 1019 1021 1030 1031 1048 1063 1064 1066 1092 1096\\n 1104 1110 1111 1117 1121 1132 1140 1143 1160 1169 1181 1186 1210 1238\\n 1267 1271 1273 1277 1283 1285 1295 1310 1311 1317 1338 1339 1363 1365\\n 1376 1377 1380 1386 1387 1392 1397 1425 1438 1446 1454 1463 1464 1469\\n 1478 1517 1522 1568 1572 1573 1589] not found in axis'",
     "output_type": "error",
     "traceback": [
      "\u001b[0;31m---------------------------------------------------------------------------\u001b[0m",
      "\u001b[0;31mKeyError\u001b[0m                                  Traceback (most recent call last)",
      "\u001b[0;32m<ipython-input-745-59b019f96452>\u001b[0m in \u001b[0;36m<module>\u001b[0;34m\u001b[0m\n\u001b[1;32m      1\u001b[0m \u001b[0;31m# remove outlier\u001b[0m\u001b[0;34m\u001b[0m\u001b[0;34m\u001b[0m\u001b[0;34m\u001b[0m\u001b[0m\n\u001b[0;32m----> 2\u001b[0;31m \u001b[0mdata\u001b[0m\u001b[0;34m.\u001b[0m\u001b[0mArticle_length\u001b[0m\u001b[0;34m.\u001b[0m\u001b[0mdrop\u001b[0m\u001b[0;34m(\u001b[0m\u001b[0moutliers\u001b[0m\u001b[0;34m,\u001b[0m \u001b[0minplace\u001b[0m\u001b[0;34m=\u001b[0m\u001b[0;32mTrue\u001b[0m\u001b[0;34m)\u001b[0m\u001b[0;34m\u001b[0m\u001b[0;34m\u001b[0m\u001b[0m\n\u001b[0m",
      "\u001b[0;32m~/opt/anaconda3/envs/nf/lib/python3.6/site-packages/pandas/core/series.py\u001b[0m in \u001b[0;36mdrop\u001b[0;34m(self, labels, axis, index, columns, level, inplace, errors)\u001b[0m\n\u001b[1;32m   3823\u001b[0m         return super(Series, self).drop(labels=labels, axis=axis, index=index,\n\u001b[1;32m   3824\u001b[0m                                         \u001b[0mcolumns\u001b[0m\u001b[0;34m=\u001b[0m\u001b[0mcolumns\u001b[0m\u001b[0;34m,\u001b[0m \u001b[0mlevel\u001b[0m\u001b[0;34m=\u001b[0m\u001b[0mlevel\u001b[0m\u001b[0;34m,\u001b[0m\u001b[0;34m\u001b[0m\u001b[0;34m\u001b[0m\u001b[0m\n\u001b[0;32m-> 3825\u001b[0;31m                                         inplace=inplace, errors=errors)\n\u001b[0m\u001b[1;32m   3826\u001b[0m \u001b[0;34m\u001b[0m\u001b[0m\n\u001b[1;32m   3827\u001b[0m     \u001b[0;34m@\u001b[0m\u001b[0mSubstitution\u001b[0m\u001b[0;34m(\u001b[0m\u001b[0;34m**\u001b[0m\u001b[0m_shared_doc_kwargs\u001b[0m\u001b[0;34m)\u001b[0m\u001b[0;34m\u001b[0m\u001b[0;34m\u001b[0m\u001b[0m\n",
      "\u001b[0;32m~/opt/anaconda3/envs/nf/lib/python3.6/site-packages/pandas/core/generic.py\u001b[0m in \u001b[0;36mdrop\u001b[0;34m(self, labels, axis, index, columns, level, inplace, errors)\u001b[0m\n\u001b[1;32m   3778\u001b[0m         \u001b[0;32mfor\u001b[0m \u001b[0maxis\u001b[0m\u001b[0;34m,\u001b[0m \u001b[0mlabels\u001b[0m \u001b[0;32min\u001b[0m \u001b[0maxes\u001b[0m\u001b[0;34m.\u001b[0m\u001b[0mitems\u001b[0m\u001b[0;34m(\u001b[0m\u001b[0;34m)\u001b[0m\u001b[0;34m:\u001b[0m\u001b[0;34m\u001b[0m\u001b[0;34m\u001b[0m\u001b[0m\n\u001b[1;32m   3779\u001b[0m             \u001b[0;32mif\u001b[0m \u001b[0mlabels\u001b[0m \u001b[0;32mis\u001b[0m \u001b[0;32mnot\u001b[0m \u001b[0;32mNone\u001b[0m\u001b[0;34m:\u001b[0m\u001b[0;34m\u001b[0m\u001b[0;34m\u001b[0m\u001b[0m\n\u001b[0;32m-> 3780\u001b[0;31m                 \u001b[0mobj\u001b[0m \u001b[0;34m=\u001b[0m \u001b[0mobj\u001b[0m\u001b[0;34m.\u001b[0m\u001b[0m_drop_axis\u001b[0m\u001b[0;34m(\u001b[0m\u001b[0mlabels\u001b[0m\u001b[0;34m,\u001b[0m \u001b[0maxis\u001b[0m\u001b[0;34m,\u001b[0m \u001b[0mlevel\u001b[0m\u001b[0;34m=\u001b[0m\u001b[0mlevel\u001b[0m\u001b[0;34m,\u001b[0m \u001b[0merrors\u001b[0m\u001b[0;34m=\u001b[0m\u001b[0merrors\u001b[0m\u001b[0;34m)\u001b[0m\u001b[0;34m\u001b[0m\u001b[0;34m\u001b[0m\u001b[0m\n\u001b[0m\u001b[1;32m   3781\u001b[0m \u001b[0;34m\u001b[0m\u001b[0m\n\u001b[1;32m   3782\u001b[0m         \u001b[0;32mif\u001b[0m \u001b[0minplace\u001b[0m\u001b[0;34m:\u001b[0m\u001b[0;34m\u001b[0m\u001b[0;34m\u001b[0m\u001b[0m\n",
      "\u001b[0;32m~/opt/anaconda3/envs/nf/lib/python3.6/site-packages/pandas/core/generic.py\u001b[0m in \u001b[0;36m_drop_axis\u001b[0;34m(self, labels, axis, level, errors)\u001b[0m\n\u001b[1;32m   3810\u001b[0m                 \u001b[0mnew_axis\u001b[0m \u001b[0;34m=\u001b[0m \u001b[0maxis\u001b[0m\u001b[0;34m.\u001b[0m\u001b[0mdrop\u001b[0m\u001b[0;34m(\u001b[0m\u001b[0mlabels\u001b[0m\u001b[0;34m,\u001b[0m \u001b[0mlevel\u001b[0m\u001b[0;34m=\u001b[0m\u001b[0mlevel\u001b[0m\u001b[0;34m,\u001b[0m \u001b[0merrors\u001b[0m\u001b[0;34m=\u001b[0m\u001b[0merrors\u001b[0m\u001b[0;34m)\u001b[0m\u001b[0;34m\u001b[0m\u001b[0;34m\u001b[0m\u001b[0m\n\u001b[1;32m   3811\u001b[0m             \u001b[0;32melse\u001b[0m\u001b[0;34m:\u001b[0m\u001b[0;34m\u001b[0m\u001b[0;34m\u001b[0m\u001b[0m\n\u001b[0;32m-> 3812\u001b[0;31m                 \u001b[0mnew_axis\u001b[0m \u001b[0;34m=\u001b[0m \u001b[0maxis\u001b[0m\u001b[0;34m.\u001b[0m\u001b[0mdrop\u001b[0m\u001b[0;34m(\u001b[0m\u001b[0mlabels\u001b[0m\u001b[0;34m,\u001b[0m \u001b[0merrors\u001b[0m\u001b[0;34m=\u001b[0m\u001b[0merrors\u001b[0m\u001b[0;34m)\u001b[0m\u001b[0;34m\u001b[0m\u001b[0;34m\u001b[0m\u001b[0m\n\u001b[0m\u001b[1;32m   3813\u001b[0m             \u001b[0mresult\u001b[0m \u001b[0;34m=\u001b[0m \u001b[0mself\u001b[0m\u001b[0;34m.\u001b[0m\u001b[0mreindex\u001b[0m\u001b[0;34m(\u001b[0m\u001b[0;34m**\u001b[0m\u001b[0;34m{\u001b[0m\u001b[0maxis_name\u001b[0m\u001b[0;34m:\u001b[0m \u001b[0mnew_axis\u001b[0m\u001b[0;34m}\u001b[0m\u001b[0;34m)\u001b[0m\u001b[0;34m\u001b[0m\u001b[0;34m\u001b[0m\u001b[0m\n\u001b[1;32m   3814\u001b[0m \u001b[0;34m\u001b[0m\u001b[0m\n",
      "\u001b[0;32m~/opt/anaconda3/envs/nf/lib/python3.6/site-packages/pandas/core/indexes/base.py\u001b[0m in \u001b[0;36mdrop\u001b[0;34m(self, labels, errors)\u001b[0m\n\u001b[1;32m   4962\u001b[0m             \u001b[0;32mif\u001b[0m \u001b[0merrors\u001b[0m \u001b[0;34m!=\u001b[0m \u001b[0;34m'ignore'\u001b[0m\u001b[0;34m:\u001b[0m\u001b[0;34m\u001b[0m\u001b[0;34m\u001b[0m\u001b[0m\n\u001b[1;32m   4963\u001b[0m                 raise KeyError(\n\u001b[0;32m-> 4964\u001b[0;31m                     '{} not found in axis'.format(labels[mask]))\n\u001b[0m\u001b[1;32m   4965\u001b[0m             \u001b[0mindexer\u001b[0m \u001b[0;34m=\u001b[0m \u001b[0mindexer\u001b[0m\u001b[0;34m[\u001b[0m\u001b[0;34m~\u001b[0m\u001b[0mmask\u001b[0m\u001b[0;34m]\u001b[0m\u001b[0;34m\u001b[0m\u001b[0;34m\u001b[0m\u001b[0m\n\u001b[1;32m   4966\u001b[0m         \u001b[0;32mreturn\u001b[0m \u001b[0mself\u001b[0m\u001b[0;34m.\u001b[0m\u001b[0mdelete\u001b[0m\u001b[0;34m(\u001b[0m\u001b[0mindexer\u001b[0m\u001b[0;34m)\u001b[0m\u001b[0;34m\u001b[0m\u001b[0;34m\u001b[0m\u001b[0m\n",
      "\u001b[0;31mKeyError\u001b[0m: '[  14   18   22   30   45   58   79   88  121  137  146  153  155  166\\n  181  195  211  221  230  248  255  259  283  312  354  380  383  410\\n  425  426  432  450  460  473  475  483  493  498  503  507  513  519\\n  532  542  559  573  580  595  599  601  607  611  614  616  617  619\\n  636  638  642  651  660  664  670  671  676  681  682  685  691  693\\n  711  712  736  740  757  770  796  800  806  809  813  818  820  851\\n  857  863  879  881  884  902  914  915  928  929  955  964  965  966\\n  970  973 1001 1017 1019 1021 1030 1031 1048 1063 1064 1066 1092 1096\\n 1104 1110 1111 1117 1121 1132 1140 1143 1160 1169 1181 1186 1210 1238\\n 1267 1271 1273 1277 1283 1285 1295 1310 1311 1317 1338 1339 1363 1365\\n 1376 1377 1380 1386 1387 1392 1397 1425 1438 1446 1454 1463 1464 1469\\n 1478 1517 1522 1568 1572 1573 1589] not found in axis'"
     ]
    }
   ],
   "source": [
    "# remove outlier\n",
    "data.Article_length.drop(outliers, inplace=True)"
   ]
  },
  {
   "cell_type": "code",
   "execution_count": 746,
   "metadata": {},
   "outputs": [
    {
     "data": {
      "text/plain": [
       "(1335, 3)"
      ]
     },
     "execution_count": 746,
     "metadata": {},
     "output_type": "execute_result"
    }
   ],
   "source": [
    "data.shape"
   ]
  },
  {
   "cell_type": "code",
   "execution_count": null,
   "metadata": {},
   "outputs": [],
   "source": []
  },
  {
   "cell_type": "code",
   "execution_count": null,
   "metadata": {},
   "outputs": [],
   "source": []
  },
  {
   "cell_type": "markdown",
   "metadata": {},
   "source": [
    "# Exploratory data analysis (EDA)"
   ]
  },
  {
   "cell_type": "markdown",
   "metadata": {},
   "source": [
    "## Fake News and True News"
   ]
  },
  {
   "cell_type": "code",
   "execution_count": 747,
   "metadata": {},
   "outputs": [
    {
     "data": {
      "image/png": "[encoded data removed]",
      "text/plain": [
       "<Figure size 432x288 with 1 Axes>"
      ]
     },
     "metadata": {},
     "output_type": "display_data"
    }
   ],
   "source": [
    "Fig_age_survivial = (data.prediction.value_counts()\n",
    "                     .plot.pie(autopct='%1.1f%%'\n",
    "                               ,shadow=True\n",
    "                               ,colors=['blue','red']\n",
    "                               ,textprops=dict(color=\"w\",size='14'))\n",
    "                    )\n",
    "plt.title('What kind of news?')\n",
    "plt.legend(['True News','Fake News'])\n",
    "plt.savefig('figures/News_pie.png')"
   ]
  },
  {
   "cell_type": "markdown",
   "metadata": {},
   "source": [
    "## Article length"
   ]
  },
  {
   "cell_type": "code",
   "execution_count": 749,
   "metadata": {},
   "outputs": [],
   "source": [
    "dist_article = []\n",
    "for x in data.article:\n",
    "    dist_article.append(len(x.split()))\n",
    "data['Article_length'] = dist_article"
   ]
  },
  {
   "cell_type": "code",
   "execution_count": 750,
   "metadata": {
    "scrolled": true
   },
   "outputs": [
    {
     "data": {
      "image/png": "[encoded data removed]",
      "text/plain": [
       "<Figure size 576x360 with 1 Axes>"
      ]
     },
     "metadata": {
      "needs_background": "light"
     },
     "output_type": "display_data"
    }
   ],
   "source": [
    "plt.figure(figsize=(8,5))\n",
    "ax = sns.distplot(dist_article)"
   ]
  },
  {
   "cell_type": "code",
   "execution_count": 751,
   "metadata": {},
   "outputs": [
    {
     "data": {
      "image/png": "[encoded data removed]",
      "text/plain": [
       "<Figure size 432x288 with 1 Axes>"
      ]
     },
     "metadata": {
      "needs_background": "light"
     },
     "output_type": "display_data"
    }
   ],
   "source": [
    "# boxplot \n",
    "ax = sns.boxplot(x=data[\"Article_length\"])"
   ]
  },
  {
   "cell_type": "code",
   "execution_count": 752,
   "metadata": {},
   "outputs": [
    {
     "data": {
      "image/png": "[encoded data removed]",
      "text/plain": [
       "<Figure size 432x288 with 1 Axes>"
      ]
     },
     "metadata": {
      "needs_background": "light"
     },
     "output_type": "display_data"
    }
   ],
   "source": [
    "# boxplot by prediction\n",
    "ax = sns.boxplot(x=\"prediction\", y=\"Article_length\", data=data)"
   ]
  },
  {
   "cell_type": "code",
   "execution_count": 755,
   "metadata": {},
   "outputs": [
    {
     "data": {
      "text/plain": [
       "(1335, 3)"
      ]
     },
     "execution_count": 755,
     "metadata": {},
     "output_type": "execute_result"
    }
   ],
   "source": [
    "data.shape"
   ]
  },
  {
   "cell_type": "markdown",
   "metadata": {},
   "source": [
    "## Subject"
   ]
  },
  {
   "cell_type": "code",
   "execution_count": 637,
   "metadata": {},
   "outputs": [],
   "source": [
    "# pie chart for subject\n",
    "# boxplot for subject"
   ]
  },
  {
   "cell_type": "code",
   "execution_count": null,
   "metadata": {},
   "outputs": [],
   "source": []
  },
  {
   "cell_type": "code",
   "execution_count": null,
   "metadata": {},
   "outputs": [],
   "source": []
  }
 ],
 "metadata": {
  "kernelspec": {
   "display_name": "Python [conda env:nf] *",
   "language": "python",
   "name": "conda-env-nf-py"
  },
  "language_info": {
   "codemirror_mode": {
    "name": "ipython",
    "version": 3
   },
   "file_extension": ".py",
   "mimetype": "text/x-python",
   "name": "python",
   "nbconvert_exporter": "python",
   "pygments_lexer": "ipython3",
   "version": "3.6.10"
  },
  "toc": {
   "base_numbering": 1,
   "nav_menu": {},
   "number_sections": true,
   "sideBar": true,
   "skip_h1_title": false,
   "title_cell": "Table of Contents",
   "title_sidebar": "Contents",
   "toc_cell": false,
   "toc_position": {},
   "toc_section_display": true,
   "toc_window_display": true
  }
 },
 "nbformat": 4,
 "nbformat_minor": 4
}
