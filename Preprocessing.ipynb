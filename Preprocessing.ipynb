{
 "cells": [
  {
   "cell_type": "code",
   "execution_count": 256,
   "metadata": {},
   "outputs": [],
   "source": [
    "reset -fs"
   ]
  },
  {
   "cell_type": "code",
   "execution_count": 257,
   "metadata": {},
   "outputs": [],
   "source": [
    "%matplotlib inline\n",
    "import pandas as pd\n",
    "import numpy as np\n",
    "import matplotlib.pyplot as plt\n",
    "import seaborn as sns\n",
    "import nltk\n",
    "import re\n",
    "import string\n",
    "import unicodedata\n",
    "from wordcloud import WordCloud\n",
    "\n",
    "from sklearn import feature_extraction, model_selection, naive_bayes, pipeline, manifold, preprocessing\n",
    "\n",
    "from lime import lime_text\n",
    "import gensim\n",
    "import gensim.downloader as gensim_api\n",
    "from tensorflow.keras import models, layers, preprocessing as kprocessing\n",
    "from tensorflow.keras import backend\n",
    "import transformers\n",
    "\n",
    "from nltk.corpus import stopwords\n",
    "from nltk.stem.porter import PorterStemmer\n",
    "from wordcloud import WordCloud,STOPWORDS\n",
    "from nltk.stem import WordNetLemmatizer\n",
    "from nltk.tokenize import word_tokenize\n",
    "\n",
    "from bs4 import BeautifulSoup"
   ]
  },
  {
   "cell_type": "code",
   "execution_count": 258,
   "metadata": {},
   "outputs": [],
   "source": [
    "import nlp_utils"
   ]
  },
  {
   "cell_type": "code",
   "execution_count": 259,
   "metadata": {},
   "outputs": [],
   "source": [
    "fake = pd.read_csv('fake.csv')\n",
    "true = pd.read_csv('true.csv')"
   ]
  },
  {
   "cell_type": "code",
   "execution_count": 260,
   "metadata": {},
   "outputs": [],
   "source": [
    "true['category'] = 1\n",
    "fake['category'] = 0"
   ]
  },
  {
   "cell_type": "code",
   "execution_count": 261,
   "metadata": {},
   "outputs": [],
   "source": [
    "data = pd.concat([true, fake],ignore_index=True) #Merging the 2 datasets"
   ]
  },
  {
   "cell_type": "code",
   "execution_count": 262,
   "metadata": {},
   "outputs": [],
   "source": [
    "data['text'] = data['text'] + \" \" + data['title']\n",
    "del data['subject']\n",
    "del data['date']\n",
    "del data['title']"
   ]
  },
  {
   "cell_type": "code",
   "execution_count": 263,
   "metadata": {},
   "outputs": [
    {
     "name": "stdout",
     "output_type": "stream",
     "text": [
      "<bound method NDFrame.describe of                                                     text  category\n",
      "0      WASHINGTON (Reuters) - The head of a conservat...         1\n",
      "1      WASHINGTON (Reuters) - Transgender people will...         1\n",
      "2      WASHINGTON (Reuters) - The special counsel inv...         1\n",
      "3      WASHINGTON (Reuters) - Trump campaign adviser ...         1\n",
      "4      SEATTLE/WASHINGTON (Reuters) - President Donal...         1\n",
      "5      WEST PALM BEACH, Fla./WASHINGTON (Reuters) - T...         1\n",
      "6      WEST PALM BEACH, Fla (Reuters) - President Don...         1\n",
      "7      The following statements were posted to the ve...         1\n",
      "8      The following statements were posted to the ve...         1\n",
      "9      WASHINGTON (Reuters) - Alabama Secretary of St...         1\n",
      "10     (Reuters) - Alabama officials on Thursday cert...         1\n",
      "11     NEW YORK/WASHINGTON (Reuters) - The new U.S. t...         1\n",
      "12     The following statements were posted to the ve...         1\n",
      "13     The following statements were posted to the ve...         1\n",
      "14      (In Dec. 25 story, in second paragraph, corre...         1\n",
      "15     (Reuters) - A lottery drawing to settle a tied...         1\n",
      "16     WASHINGTON (Reuters) - A Georgian-American bus...         1\n",
      "17     The following statements were posted to the ve...         1\n",
      "18     (Reuters) - A U.S. appeals court in Washington...         1\n",
      "19     (Reuters) - A gift-wrapped package addressed t...         1\n",
      "20     WASHINGTON (Reuters) - A federal judge in Seat...         1\n",
      "21     NEW YORK (Reuters) - The U.S. Justice Departme...         1\n",
      "22     (Reuters) - A U.S. appeals court on Friday sai...         1\n",
      "23     WASHINGTON (Reuters) - A federal appeals court...         1\n",
      "24     LIMA (Reuters) - Peru’s President Pedro Pablo ...         1\n",
      "25     WASHINGTON (Reuters) - U.S. President Donald T...         1\n",
      "26     WASHINGTON (Reuters) - U.S. financial regulato...         1\n",
      "27     The following statements were posted to the ve...         1\n",
      "28     MEXICO CITY (Reuters) - Mexico’s finance minis...         1\n",
      "29     WASHINGTON (Reuters) - U.S. Senate Majority Le...         1\n",
      "...                                                  ...       ...\n",
      "44868  21st Century Wire says Unless you have been li...         0\n",
      "44869  21st Century Wire says Iowa s Democratic Party...         0\n",
      "44870  21st Century Wire says Most people accept that...         0\n",
      "44871  21st Century Wire says As Republican, Ted Cruz...         0\n",
      "44872  Tune in to the Alternate Current Radio Network...         0\n",
      "44873  21st Century Wire says The CIA is trying its b...         0\n",
      "44874  21st Century Wire says If you ve been followin...         0\n",
      "44875  Episode #120 of SUNDAY WIRE SHOW finally resum...         0\n",
      "44876  21st Century Wire says..UPDATE 1-29-2016 at 01...         0\n",
      "44877   Patrick Henningsen 21st Century WireThere exi...         0\n",
      "44878   KILLED: Rancher and protest spokesman Robert ...         0\n",
      "44879  Tune in to the Alternate Current Radio Network...         0\n",
      "44880  Patrick Henningsen 21st Century Wire UPDATE: 1...         0\n",
      "44881  Episode #119 of SUNDAY WIRE SHOW finally resum...         0\n",
      "44882  21st Century Wire says Various parties in Wash...         0\n",
      "44883  21st Century Wire says For those who still ref...         0\n",
      "44884  21st Century Wire says So far, after nearly 20...         0\n",
      "44885  21st Century Wire says If you ve been followin...         0\n",
      "44886  Tune in to the Alternate Current Radio Network...         0\n",
      "44887  RTOne of the most visible members of the armed...         0\n",
      "44888  21st Century Wire says This week, the historic...         0\n",
      "44889   By Dady Chery and Gilbert MercierAll writers ...         0\n",
      "44890  Vic Bishop Waking TimesOur reality is carefull...         0\n",
      "44891  Paul Craig RobertsIn the last years of the 20t...         0\n",
      "44892  Robert Fantina CounterpunchAlthough the United...         0\n",
      "44893  21st Century Wire says As 21WIRE reported earl...         0\n",
      "44894  21st Century Wire says It s a familiar theme. ...         0\n",
      "44895  Patrick Henningsen  21st Century WireRemember ...         0\n",
      "44896  21st Century Wire says Al Jazeera America will...         0\n",
      "44897  21st Century Wire says As 21WIRE predicted in ...         0\n",
      "\n",
      "[44898 rows x 2 columns]>\n"
     ]
    }
   ],
   "source": [
    "print(data.describe)"
   ]
  },
  {
   "cell_type": "code",
   "execution_count": 264,
   "metadata": {},
   "outputs": [],
   "source": [
    "text = data['text']\n"
   ]
  },
  {
   "cell_type": "code",
   "execution_count": 265,
   "metadata": {},
   "outputs": [
    {
     "data": {
      "text/plain": [
       "0        WASHINGTON (Reuters) - The head of a conservat...\n",
       "1        WASHINGTON (Reuters) - Transgender people will...\n",
       "2        WASHINGTON (Reuters) - The special counsel inv...\n",
       "3        WASHINGTON (Reuters) - Trump campaign adviser ...\n",
       "4        SEATTLE/WASHINGTON (Reuters) - President Donal...\n",
       "5        WEST PALM BEACH, Fla./WASHINGTON (Reuters) - T...\n",
       "6        WEST PALM BEACH, Fla (Reuters) - President Don...\n",
       "7        The following statements were posted to the ve...\n",
       "8        The following statements were posted to the ve...\n",
       "9        WASHINGTON (Reuters) - Alabama Secretary of St...\n",
       "10       (Reuters) - Alabama officials on Thursday cert...\n",
       "11       NEW YORK/WASHINGTON (Reuters) - The new U.S. t...\n",
       "12       The following statements were posted to the ve...\n",
       "13       The following statements were posted to the ve...\n",
       "14        (In Dec. 25 story, in second paragraph, corre...\n",
       "15       (Reuters) - A lottery drawing to settle a tied...\n",
       "16       WASHINGTON (Reuters) - A Georgian-American bus...\n",
       "17       The following statements were posted to the ve...\n",
       "18       (Reuters) - A U.S. appeals court in Washington...\n",
       "19       (Reuters) - A gift-wrapped package addressed t...\n",
       "20       WASHINGTON (Reuters) - A federal judge in Seat...\n",
       "21       NEW YORK (Reuters) - The U.S. Justice Departme...\n",
       "22       (Reuters) - A U.S. appeals court on Friday sai...\n",
       "23       WASHINGTON (Reuters) - A federal appeals court...\n",
       "24       LIMA (Reuters) - Peru’s President Pedro Pablo ...\n",
       "25       WASHINGTON (Reuters) - U.S. President Donald T...\n",
       "26       WASHINGTON (Reuters) - U.S. financial regulato...\n",
       "27       The following statements were posted to the ve...\n",
       "28       MEXICO CITY (Reuters) - Mexico’s finance minis...\n",
       "29       WASHINGTON (Reuters) - U.S. Senate Majority Le...\n",
       "                               ...                        \n",
       "44868    21st Century Wire says Unless you have been li...\n",
       "44869    21st Century Wire says Iowa s Democratic Party...\n",
       "44870    21st Century Wire says Most people accept that...\n",
       "44871    21st Century Wire says As Republican, Ted Cruz...\n",
       "44872    Tune in to the Alternate Current Radio Network...\n",
       "44873    21st Century Wire says The CIA is trying its b...\n",
       "44874    21st Century Wire says If you ve been followin...\n",
       "44875    Episode #120 of SUNDAY WIRE SHOW finally resum...\n",
       "44876    21st Century Wire says..UPDATE 1-29-2016 at 01...\n",
       "44877     Patrick Henningsen 21st Century WireThere exi...\n",
       "44878     KILLED: Rancher and protest spokesman Robert ...\n",
       "44879    Tune in to the Alternate Current Radio Network...\n",
       "44880    Patrick Henningsen 21st Century Wire UPDATE: 1...\n",
       "44881    Episode #119 of SUNDAY WIRE SHOW finally resum...\n",
       "44882    21st Century Wire says Various parties in Wash...\n",
       "44883    21st Century Wire says For those who still ref...\n",
       "44884    21st Century Wire says So far, after nearly 20...\n",
       "44885    21st Century Wire says If you ve been followin...\n",
       "44886    Tune in to the Alternate Current Radio Network...\n",
       "44887    RTOne of the most visible members of the armed...\n",
       "44888    21st Century Wire says This week, the historic...\n",
       "44889     By Dady Chery and Gilbert MercierAll writers ...\n",
       "44890    Vic Bishop Waking TimesOur reality is carefull...\n",
       "44891    Paul Craig RobertsIn the last years of the 20t...\n",
       "44892    Robert Fantina CounterpunchAlthough the United...\n",
       "44893    21st Century Wire says As 21WIRE reported earl...\n",
       "44894    21st Century Wire says It s a familiar theme. ...\n",
       "44895    Patrick Henningsen  21st Century WireRemember ...\n",
       "44896    21st Century Wire says Al Jazeera America will...\n",
       "44897    21st Century Wire says As 21WIRE predicted in ...\n",
       "Name: text, Length: 44898, dtype: object"
      ]
     },
     "execution_count": 265,
     "metadata": {},
     "output_type": "execute_result"
    }
   ],
   "source": [
    "text"
   ]
  },
  {
   "cell_type": "code",
   "execution_count": 266,
   "metadata": {},
   "outputs": [
    {
     "name": "stdout",
     "output_type": "stream",
     "text": [
      "average length of text: 2550.221\n"
     ]
    },
    {
     "data": {
      "image/png": "[encoded data removed]",
      "text/plain": [
       "<Figure size 432x288 with 1 Axes>"
      ]
     },
     "metadata": {
      "needs_background": "light"
     },
     "output_type": "display_data"
    }
   ],
   "source": [
    "x = [len(text[i]) for i in range(text.shape[0])]\n",
    "\n",
    "print('average length of text: {:.3f}'.format(sum(x)/len(x)) )\n",
    "bins = [1,200,400,600,800,1000,1200]\n",
    "plt.hist(x, bins=bins)\n",
    "plt.xlabel('Length of text')\n",
    "plt.ylabel('Number of text')       \n",
    "plt.axis([0, 1500, 0, 5000])\n",
    "plt.grid(True)\n",
    "plt.show()"
   ]
  },
  {
   "cell_type": "code",
   "execution_count": 267,
   "metadata": {},
   "outputs": [
    {
     "name": "stdout",
     "output_type": "stream",
     "text": [
      "!\"#$%&'()*+,-./:;<=>?@[\\]^_`{|}~\n",
      "!\"#$%&()*+,-./:;<=>?@[\\]^_`{|}~0123456789\n"
     ]
    }
   ],
   "source": [
    "import string\n",
    "print(string.punctuation)\n",
    "punctuation_edit = string.punctuation.replace('\\'','') +\"0123456789\"\n",
    "print (punctuation_edit)\n",
    "outtab = \"                                         \"\n",
    "trantab = str.maketrans(punctuation_edit, outtab)"
   ]
  },
  {
   "cell_type": "code",
   "execution_count": 268,
   "metadata": {},
   "outputs": [],
   "source": [
    "stop = set(stopwords.words('english'))\n",
    "punctuation = list(string.punctuation)\n",
    "stop.update(punctuation)"
   ]
  },
  {
   "cell_type": "markdown",
   "metadata": {},
   "source": [
    "### Preprocessing"
   ]
  },
  {
   "cell_type": "markdown",
   "metadata": {},
   "source": [
    "1) "
   ]
  },
  {
   "cell_type": "markdown",
   "metadata": {},
   "source": [
    "Preprocess a string.\n",
    ":parameter\n",
    " :param text: string - name of column containing text\n",
    " :param lst_stopwords: list - list of stopwords to remove\n",
    " :param flg_stemm: bool - whether stemming is to be applied\n",
    " :param flg_lemm: bool - whether lemmitisation is to be applied\n",
    ":return\n",
    " cleaned text"
   ]
  },
  {
   "cell_type": "code",
   "execution_count": 269,
   "metadata": {},
   "outputs": [
    {
     "data": {
      "text/plain": [
       "'\\nPreprocess a string.\\n:parameter\\n    :param text: string - name of column containing text\\n    :param lst_stopwords: list - list of stopwords to remove\\n    :param flg_stemm: bool - whether stemming is to be applied\\n:return\\n    cleaned text\\n'"
      ]
     },
     "execution_count": 269,
     "metadata": {},
     "output_type": "execute_result"
    }
   ],
   "source": [
    "'''\n",
    "Preprocess a string.\n",
    ":parameter\n",
    "    :param text: string - name of column containing text\n",
    "    :param lst_stopwords: list - list of stopwords to remove\n",
    "    :param flg_stemm: bool - whether stemming is to be applied\n",
    ":return\n",
    "    cleaned text\n",
    "'''\n"
   ]
  },
  {
   "cell_type": "code",
   "execution_count": 297,
   "metadata": {
    "scrolled": false
   },
   "outputs": [],
   "source": [
    "def utils_preprocess_text(text, flg_stemm=False, flg_lemm=True, lst_stopwords=None):\n",
    "    ## clean (convert to lowercase and remove punctuations and characters and then strip)\n",
    "    text = re.sub(r'[^\\w\\s]', '', str(text).lower().strip())\n",
    "            \n",
    "    ## Tokenize (convert from string to list)\n",
    "    lst_text = text.split()\n",
    "    ## remove Stopwords\n",
    "    if lst_stopwords is not None:\n",
    "        lst_text = [word for word in lst_text if word not in \n",
    "                    lst_stopwords]\n",
    "                \n",
    "    ## Stemming (remove -ing, -ly, ...)\n",
    "    if flg_stemm == True:\n",
    "        ps = nltk.stem.porter.PorterStemmer()\n",
    "        lst_text = [ps.stem(word) for word in lst_text]\n",
    "                \n",
    "    ## Lemmatisation (convert the word into root word)\n",
    "    if flg_lemm == True:\n",
    "        lem = nltk.stem.wordnet.WordNetLemmatizer()\n",
    "        lst_text = [lem.lemmatize(word) for word in lst_text]\n",
    "            \n",
    "    ## back to string from list\n",
    "    text = \" \".join(lst_text)\n",
    "    return text"
   ]
  },
  {
   "cell_type": "code",
   "execution_count": 298,
   "metadata": {},
   "outputs": [
    {
     "data": {
      "text/plain": [
       "['i',\n",
       " 'me',\n",
       " 'my',\n",
       " 'myself',\n",
       " 'we',\n",
       " 'our',\n",
       " 'ours',\n",
       " 'ourselves',\n",
       " 'you',\n",
       " \"you're\",\n",
       " \"you've\",\n",
       " \"you'll\",\n",
       " \"you'd\",\n",
       " 'your',\n",
       " 'yours',\n",
       " 'yourself',\n",
       " 'yourselves',\n",
       " 'he',\n",
       " 'him',\n",
       " 'his',\n",
       " 'himself',\n",
       " 'she',\n",
       " \"she's\",\n",
       " 'her',\n",
       " 'hers',\n",
       " 'herself',\n",
       " 'it',\n",
       " \"it's\",\n",
       " 'its',\n",
       " 'itself',\n",
       " 'they',\n",
       " 'them',\n",
       " 'their',\n",
       " 'theirs',\n",
       " 'themselves',\n",
       " 'what',\n",
       " 'which',\n",
       " 'who',\n",
       " 'whom',\n",
       " 'this',\n",
       " 'that',\n",
       " \"that'll\",\n",
       " 'these',\n",
       " 'those',\n",
       " 'am',\n",
       " 'is',\n",
       " 'are',\n",
       " 'was',\n",
       " 'were',\n",
       " 'be',\n",
       " 'been',\n",
       " 'being',\n",
       " 'have',\n",
       " 'has',\n",
       " 'had',\n",
       " 'having',\n",
       " 'do',\n",
       " 'does',\n",
       " 'did',\n",
       " 'doing',\n",
       " 'a',\n",
       " 'an',\n",
       " 'the',\n",
       " 'and',\n",
       " 'but',\n",
       " 'if',\n",
       " 'or',\n",
       " 'because',\n",
       " 'as',\n",
       " 'until',\n",
       " 'while',\n",
       " 'of',\n",
       " 'at',\n",
       " 'by',\n",
       " 'for',\n",
       " 'with',\n",
       " 'about',\n",
       " 'against',\n",
       " 'between',\n",
       " 'into',\n",
       " 'through',\n",
       " 'during',\n",
       " 'before',\n",
       " 'after',\n",
       " 'above',\n",
       " 'below',\n",
       " 'to',\n",
       " 'from',\n",
       " 'up',\n",
       " 'down',\n",
       " 'in',\n",
       " 'out',\n",
       " 'on',\n",
       " 'off',\n",
       " 'over',\n",
       " 'under',\n",
       " 'again',\n",
       " 'further',\n",
       " 'then',\n",
       " 'once',\n",
       " 'here',\n",
       " 'there',\n",
       " 'when',\n",
       " 'where',\n",
       " 'why',\n",
       " 'how',\n",
       " 'all',\n",
       " 'any',\n",
       " 'both',\n",
       " 'each',\n",
       " 'few',\n",
       " 'more',\n",
       " 'most',\n",
       " 'other',\n",
       " 'some',\n",
       " 'such',\n",
       " 'no',\n",
       " 'nor',\n",
       " 'not',\n",
       " 'only',\n",
       " 'own',\n",
       " 'same',\n",
       " 'so',\n",
       " 'than',\n",
       " 'too',\n",
       " 'very',\n",
       " 's',\n",
       " 't',\n",
       " 'can',\n",
       " 'will',\n",
       " 'just',\n",
       " 'don',\n",
       " \"don't\",\n",
       " 'should',\n",
       " \"should've\",\n",
       " 'now',\n",
       " 'd',\n",
       " 'll',\n",
       " 'm',\n",
       " 'o',\n",
       " 're',\n",
       " 've',\n",
       " 'y',\n",
       " 'ain',\n",
       " 'aren',\n",
       " \"aren't\",\n",
       " 'couldn',\n",
       " \"couldn't\",\n",
       " 'didn',\n",
       " \"didn't\",\n",
       " 'doesn',\n",
       " \"doesn't\",\n",
       " 'hadn',\n",
       " \"hadn't\",\n",
       " 'hasn',\n",
       " \"hasn't\",\n",
       " 'haven',\n",
       " \"haven't\",\n",
       " 'isn',\n",
       " \"isn't\",\n",
       " 'ma',\n",
       " 'mightn',\n",
       " \"mightn't\",\n",
       " 'mustn',\n",
       " \"mustn't\",\n",
       " 'needn',\n",
       " \"needn't\",\n",
       " 'shan',\n",
       " \"shan't\",\n",
       " 'shouldn',\n",
       " \"shouldn't\",\n",
       " 'wasn',\n",
       " \"wasn't\",\n",
       " 'weren',\n",
       " \"weren't\",\n",
       " 'won',\n",
       " \"won't\",\n",
       " 'wouldn',\n",
       " \"wouldn't\"]"
      ]
     },
     "execution_count": 298,
     "metadata": {},
     "output_type": "execute_result"
    }
   ],
   "source": [
    "lst_stopwords = nltk.corpus.stopwords.words(\"english\")\n",
    "lst_stopwords"
   ]
  },
  {
   "cell_type": "code",
   "execution_count": 292,
   "metadata": {
    "code_folding": []
   },
   "outputs": [],
   "source": [
    "i=0\n",
    "data[\"text_clean\"] = data[\"text\"].apply(lambda x: \n",
    "          utils_preprocess_text(x, flg_lemm=True, lst_stopwords=lst_stopwords))"
   ]
  },
  {
   "cell_type": "code",
   "execution_count": 293,
   "metadata": {},
   "outputs": [
    {
     "name": "stdout",
     "output_type": "stream",
     "text": [
      "washington reuters head conservative republican faction u congress voted month huge expansion national debt pay tax cut called fiscal conservative sunday urged budget restraint 2018 keeping sharp pivot way among republican u representative mark meadow speaking cbs face nation drew hard line federal spending lawmaker bracing battle january return holiday wednesday lawmaker begin trying pas federal budget fight likely linked issue immigration policy even november congressional election campaign approach republican seek keep control congress president donald trump republican want big budget increase military spending democrat also want proportional increase nondefense discretionary spending program support education scientific research infrastructure public health environmental protection trump administration already willing say going increase nondefense discretionary spending 7 percent meadow chairman small influential house freedom caucus said program democrat saying thats enough need give government pay raise 10 11 percent fiscal conservative dont see rationale eventually run people money said meadow among republican voted late december party debtfinanced tax overhaul expected balloon federal budget deficit add 15 trillion 10 year 20 trillion national debt interesting hear mark talk fiscal responsibility democratic u representative joseph crowley said cbs crowley said republican tax bill would require united state borrow 15 trillion paid future generation finance tax cut corporation rich one least fiscally responsible bill weve ever seen passed history house representative think going paying many many year come crowley said republican insist tax package biggest u tax overhaul 30 year boost economy job growth house speaker paul ryan also supported tax bill recently went meadow making clear radio interview welfare entitlement reform party often call would top republican priority 2018 republican parlance entitlement program mean food stamp housing assistance medicare medicaid health insurance elderly poor disabled well program created washington assist needy democrat seized ryans early december remark saying showed republican would try pay tax overhaul seeking spending cut social program goal house republican may take back seat senate vote democrat needed approve budget prevent government shutdown democrat use leverage senate republican narrowly control defend discretionary nondefense program social spending tackling issue dreamer people brought illegally country child trump september put march 2018 expiration date deferred action childhood arrival daca program protects young immigrant deportation provides work permit president said recent twitter message want funding proposed mexican border wall immigration law change exchange agreeing help dreamer representative debbie dingell told cbs favor linking issue policy objective wall funding need daca clean said wednesday trump aide meet congressional leader discus issue followed weekend strategy session trump republican leader jan 6 7 white house said trump also scheduled meet sunday florida republican governor rick scott want emergency aid house passed 81 billion aid package hurricane florida texas puerto rico wildfire california package far exceeded 44 billion requested trump administration senate yet voted aid u budget fight loom republican flip fiscal script\n"
     ]
    }
   ],
   "source": [
    "print(data.text_clean[0])"
   ]
  },
  {
   "cell_type": "code",
   "execution_count": 300,
   "metadata": {},
   "outputs": [
    {
     "name": "stdout",
     "output_type": "stream",
     "text": [
      "--- original ---\n",
      "WASHINGTON (Reuters) - The head of a conservative Republican faction in the U.S. Congress, who voted this month for a huge expansion of the national debt to pay for tax cuts, called himself a “fiscal conservative” on Sunday and urged budget restraint in 2018. In keeping with a sharp pivot under way among Republicans, U.S. Representative Mark Meadows, speaking on CBS’ “Face the Nation,” drew a hard line on federal spending, which lawmakers are bracing to do battle over in January. When they return from the holidays on Wednesday, lawmakers will begin trying to pass a federal budget in a fight likely to be linked to other issues, such as immigration policy, even as the November congressional election campaigns approach in which Republicans will seek to keep control of Congress. President Donald Trump and his Republicans want a big budget increase in military spending, while Democrats also want proportional increases for non-defense “discretionary” spending on programs that support education, scientific research, infrastructure, public health and environmental protection. “The (Trump) administration has already been willing to say: ‘We’re going to increase non-defense discretionary spending ... by about 7 percent,’” Meadows, chairman of the small but influential House Freedom Caucus, said on the program. “Now, Democrats are saying that’s not enough, we need to give the government a pay raise of 10 to 11 percent. For a fiscal conservative, I don’t see where the rationale is. ... Eventually you run out of other people’s money,” he said. Meadows was among Republicans who voted in late December for their party’s debt-financed tax overhaul, which is expected to balloon the federal budget deficit and add about $1.5 trillion over 10 years to the $20 trillion national debt. “It’s interesting to hear Mark talk about fiscal responsibility,” Democratic U.S. Representative Joseph Crowley said on CBS. Crowley said the Republican tax bill would require the  United States to borrow $1.5 trillion, to be paid off by future generations, to finance tax cuts for corporations and the rich. “This is one of the least ... fiscally responsible bills we’ve ever seen passed in the history of the House of Representatives. I think we’re going to be paying for this for many, many years to come,” Crowley said. Republicans insist the tax package, the biggest U.S. tax overhaul in more than 30 years,  will boost the economy and job growth. House Speaker Paul Ryan, who also supported the tax bill, recently went further than Meadows, making clear in a radio interview that welfare or “entitlement reform,” as the party often calls it, would be a top Republican priority in 2018. In Republican parlance, “entitlement” programs mean food stamps, housing assistance, Medicare and Medicaid health insurance for the elderly, poor and disabled, as well as other programs created by Washington to assist the needy. Democrats seized on Ryan’s early December remarks, saying they showed Republicans would try to pay for their tax overhaul by seeking spending cuts for social programs. But the goals of House Republicans may have to take a back seat to the Senate, where the votes of some Democrats will be needed to approve a budget and prevent a government shutdown. Democrats will use their leverage in the Senate, which Republicans narrowly control, to defend both discretionary non-defense programs and social spending, while tackling the issue of the “Dreamers,” people brought illegally to the country as children. Trump in September put a March 2018 expiration date on the Deferred Action for Childhood Arrivals, or DACA, program, which protects the young immigrants from deportation and provides them with work permits. The president has said in recent Twitter messages he wants funding for his proposed Mexican border wall and other immigration law changes in exchange for agreeing to help the Dreamers. Representative Debbie Dingell told CBS she did not favor linking that issue to other policy objectives, such as wall funding. “We need to do DACA clean,” she said.  On Wednesday, Trump aides will meet with congressional leaders to discuss those issues. That will be followed by a weekend of strategy sessions for Trump and Republican leaders on Jan. 6 and 7, the White House said. Trump was also scheduled to meet on Sunday with Florida Republican Governor Rick Scott, who wants more emergency aid. The House has passed an $81 billion aid package after hurricanes in Florida, Texas and Puerto Rico, and wildfires in California. The package far exceeded the $44 billion requested by the Trump administration. The Senate has not yet voted on the aid.  As U.S. budget fight looms, Republicans flip their fiscal script\n",
      "--- cleaning ---\n",
      "washington reuters the head of a conservative republican faction in the u congress who voted this month for a huge expansion of the national debt to pay for tax cut called himself a fiscal conservative on sunday and urged budget restraint in 2018 in keeping with a sharp pivot under way among republican u representative mark meadow speaking on cbs face the nation drew a hard line on federal spending which lawmaker are bracing to do battle over in january when they return from the holiday on wednesday lawmaker will begin trying to pas a federal budget in a fight likely to be linked to other issue such a immigration policy even a the november congressional election campaign approach in which republican will seek to keep control of congress president donald trump and his republican want a big budget increase in military spending while democrat also want proportional increase for nondefense discretionary spending on program that support education scientific research infrastructure public health and environmental protection the trump administration ha already been willing to say were going to increase nondefense discretionary spending by about 7 percent meadow chairman of the small but influential house freedom caucus said on the program now democrat are saying thats not enough we need to give the government a pay raise of 10 to 11 percent for a fiscal conservative i dont see where the rationale is eventually you run out of other people money he said meadow wa among republican who voted in late december for their party debtfinanced tax overhaul which is expected to balloon the federal budget deficit and add about 15 trillion over 10 year to the 20 trillion national debt it interesting to hear mark talk about fiscal responsibility democratic u representative joseph crowley said on cbs crowley said the republican tax bill would require the united state to borrow 15 trillion to be paid off by future generation to finance tax cut for corporation and the rich this is one of the least fiscally responsible bill weve ever seen passed in the history of the house of representative i think were going to be paying for this for many many year to come crowley said republican insist the tax package the biggest u tax overhaul in more than 30 year will boost the economy and job growth house speaker paul ryan who also supported the tax bill recently went further than meadow making clear in a radio interview that welfare or entitlement reform a the party often call it would be a top republican priority in 2018 in republican parlance entitlement program mean food stamp housing assistance medicare and medicaid health insurance for the elderly poor and disabled a well a other program created by washington to assist the needy democrat seized on ryans early december remark saying they showed republican would try to pay for their tax overhaul by seeking spending cut for social program but the goal of house republican may have to take a back seat to the senate where the vote of some democrat will be needed to approve a budget and prevent a government shutdown democrat will use their leverage in the senate which republican narrowly control to defend both discretionary nondefense program and social spending while tackling the issue of the dreamer people brought illegally to the country a child trump in september put a march 2018 expiration date on the deferred action for childhood arrival or daca program which protects the young immigrant from deportation and provides them with work permit the president ha said in recent twitter message he want funding for his proposed mexican border wall and other immigration law change in exchange for agreeing to help the dreamer representative debbie dingell told cbs she did not favor linking that issue to other policy objective such a wall funding we need to do daca clean she said on wednesday trump aide will meet with congressional leader to discus those issue that will be followed by a weekend of strategy session for trump and republican leader on jan 6 and 7 the white house said trump wa also scheduled to meet on sunday with florida republican governor rick scott who want more emergency aid the house ha passed an 81 billion aid package after hurricane in florida texas and puerto rico and wildfire in california the package far exceeded the 44 billion requested by the trump administration the senate ha not yet voted on the aid a u budget fight loom republican flip their fiscal script\n",
      "--- tokenization ---\n",
      "['WASHINGTON', '(Reuters)', '-', 'The', 'head', 'of', 'a', 'conservative', 'Republican', 'faction', 'in', 'the', 'U.S.', 'Congress,', 'who', 'voted', 'this', 'month', 'for', 'a', 'huge', 'expansion', 'of', 'the', 'national', 'debt', 'to', 'pay', 'for', 'tax', 'cuts,', 'called', 'himself', 'a', '“fiscal', 'conservative”', 'on', 'Sunday', 'and', 'urged', 'budget', 'restraint', 'in', '2018.', 'In', 'keeping', 'with', 'a', 'sharp', 'pivot', 'under', 'way', 'among', 'Republicans,', 'U.S.', 'Representative', 'Mark', 'Meadows,', 'speaking', 'on', 'CBS’', '“Face', 'the', 'Nation,”', 'drew', 'a', 'hard', 'line', 'on', 'federal', 'spending,', 'which', 'lawmakers', 'are', 'bracing', 'to', 'do', 'battle', 'over', 'in', 'January.', 'When', 'they', 'return', 'from', 'the', 'holidays', 'on', 'Wednesday,', 'lawmakers', 'will', 'begin', 'trying', 'to', 'pass', 'a', 'federal', 'budget', 'in', 'a', 'fight', 'likely', 'to', 'be', 'linked', 'to', 'other', 'issues,', 'such', 'as', 'immigration', 'policy,', 'even', 'as', 'the', 'November', 'congressional', 'election', 'campaigns', 'approach', 'in', 'which', 'Republicans', 'will', 'seek', 'to', 'keep', 'control', 'of', 'Congress.', 'President', 'Donald', 'Trump', 'and', 'his', 'Republicans', 'want', 'a', 'big', 'budget', 'increase', 'in', 'military', 'spending,', 'while', 'Democrats', 'also', 'want', 'proportional', 'increases', 'for', 'non-defense', '“discretionary”', 'spending', 'on', 'programs', 'that', 'support', 'education,', 'scientific', 'research,', 'infrastructure,', 'public', 'health', 'and', 'environmental', 'protection.', '“The', '(Trump)', 'administration', 'has', 'already', 'been', 'willing', 'to', 'say:', '‘We’re', 'going', 'to', 'increase', 'non-defense', 'discretionary', 'spending', '...', 'by', 'about', '7', 'percent,’”', 'Meadows,', 'chairman', 'of', 'the', 'small', 'but', 'influential', 'House', 'Freedom', 'Caucus,', 'said', 'on', 'the', 'program.', '“Now,', 'Democrats', 'are', 'saying', 'that’s', 'not', 'enough,', 'we', 'need', 'to', 'give', 'the', 'government', 'a', 'pay', 'raise', 'of', '10', 'to', '11', 'percent.', 'For', 'a', 'fiscal', 'conservative,', 'I', 'don’t', 'see', 'where', 'the', 'rationale', 'is.', '...', 'Eventually', 'you', 'run', 'out', 'of', 'other', 'people’s', 'money,”', 'he', 'said.', 'Meadows', 'was', 'among', 'Republicans', 'who', 'voted', 'in', 'late', 'December', 'for', 'their', 'party’s', 'debt-financed', 'tax', 'overhaul,', 'which', 'is', 'expected', 'to', 'balloon', 'the', 'federal', 'budget', 'deficit', 'and', 'add', 'about', '$1.5', 'trillion', 'over', '10', 'years', 'to', 'the', '$20', 'trillion', 'national', 'debt.', '“It’s', 'interesting', 'to', 'hear', 'Mark', 'talk', 'about', 'fiscal', 'responsibility,”', 'Democratic', 'U.S.', 'Representative', 'Joseph', 'Crowley', 'said', 'on', 'CBS.', 'Crowley', 'said', 'the', 'Republican', 'tax', 'bill', 'would', 'require', 'the', 'United', 'States', 'to', 'borrow', '$1.5', 'trillion,', 'to', 'be', 'paid', 'off', 'by', 'future', 'generations,', 'to', 'finance', 'tax', 'cuts', 'for', 'corporations', 'and', 'the', 'rich.', '“This', 'is', 'one', 'of', 'the', 'least', '...', 'fiscally', 'responsible', 'bills', 'we’ve', 'ever', 'seen', 'passed', 'in', 'the', 'history', 'of', 'the', 'House', 'of', 'Representatives.', 'I', 'think', 'we’re', 'going', 'to', 'be', 'paying', 'for', 'this', 'for', 'many,', 'many', 'years', 'to', 'come,”', 'Crowley', 'said.', 'Republicans', 'insist', 'the', 'tax', 'package,', 'the', 'biggest', 'U.S.', 'tax', 'overhaul', 'in', 'more', 'than', '30', 'years,', 'will', 'boost', 'the', 'economy', 'and', 'job', 'growth.', 'House', 'Speaker', 'Paul', 'Ryan,', 'who', 'also', 'supported', 'the', 'tax', 'bill,', 'recently', 'went', 'further', 'than', 'Meadows,', 'making', 'clear', 'in', 'a', 'radio', 'interview', 'that', 'welfare', 'or', '“entitlement', 'reform,”', 'as', 'the', 'party', 'often', 'calls', 'it,', 'would', 'be', 'a', 'top', 'Republican', 'priority', 'in', '2018.', 'In', 'Republican', 'parlance,', '“entitlement”', 'programs', 'mean', 'food', 'stamps,', 'housing', 'assistance,', 'Medicare', 'and', 'Medicaid', 'health', 'insurance', 'for', 'the', 'elderly,', 'poor', 'and', 'disabled,', 'as', 'well', 'as', 'other', 'programs', 'created', 'by', 'Washington', 'to', 'assist', 'the', 'needy.', 'Democrats', 'seized', 'on', 'Ryan’s', 'early', 'December', 'remarks,', 'saying', 'they', 'showed', 'Republicans', 'would', 'try', 'to', 'pay', 'for', 'their', 'tax', 'overhaul', 'by', 'seeking', 'spending', 'cuts', 'for', 'social', 'programs.', 'But', 'the', 'goals', 'of', 'House', 'Republicans', 'may', 'have', 'to', 'take', 'a', 'back', 'seat', 'to', 'the', 'Senate,', 'where', 'the', 'votes', 'of', 'some', 'Democrats', 'will', 'be', 'needed', 'to', 'approve', 'a', 'budget', 'and', 'prevent', 'a', 'government', 'shutdown.', 'Democrats', 'will', 'use', 'their', 'leverage', 'in', 'the', 'Senate,', 'which', 'Republicans', 'narrowly', 'control,', 'to', 'defend', 'both', 'discretionary', 'non-defense', 'programs', 'and', 'social', 'spending,', 'while', 'tackling', 'the', 'issue', 'of', 'the', '“Dreamers,”', 'people', 'brought', 'illegally', 'to', 'the', 'country', 'as', 'children.', 'Trump', 'in', 'September', 'put', 'a', 'March', '2018', 'expiration', 'date', 'on', 'the', 'Deferred', 'Action', 'for', 'Childhood', 'Arrivals,', 'or', 'DACA,', 'program,', 'which', 'protects', 'the', 'young', 'immigrants', 'from', 'deportation', 'and', 'provides', 'them', 'with', 'work', 'permits.', 'The', 'president', 'has', 'said', 'in', 'recent', 'Twitter', 'messages', 'he', 'wants', 'funding', 'for', 'his', 'proposed', 'Mexican', 'border', 'wall', 'and', 'other', 'immigration', 'law', 'changes', 'in', 'exchange', 'for', 'agreeing', 'to', 'help', 'the', 'Dreamers.', 'Representative', 'Debbie', 'Dingell', 'told', 'CBS', 'she', 'did', 'not', 'favor', 'linking', 'that', 'issue', 'to', 'other', 'policy', 'objectives,', 'such', 'as', 'wall', 'funding.', '“We', 'need', 'to', 'do', 'DACA', 'clean,”', 'she', 'said.', 'On', 'Wednesday,', 'Trump', 'aides', 'will', 'meet', 'with', 'congressional', 'leaders', 'to', 'discuss', 'those', 'issues.', 'That', 'will', 'be', 'followed', 'by', 'a', 'weekend', 'of', 'strategy', 'sessions', 'for', 'Trump', 'and', 'Republican', 'leaders', 'on', 'Jan.', '6', 'and', '7,', 'the', 'White', 'House', 'said.', 'Trump', 'was', 'also', 'scheduled', 'to', 'meet', 'on', 'Sunday', 'with', 'Florida', 'Republican', 'Governor', 'Rick', 'Scott,', 'who', 'wants', 'more', 'emergency', 'aid.', 'The', 'House', 'has', 'passed', 'an', '$81', 'billion', 'aid', 'package', 'after', 'hurricanes', 'in', 'Florida,', 'Texas', 'and', 'Puerto', 'Rico,', 'and', 'wildfires', 'in', 'California.', 'The', 'package', 'far', 'exceeded', 'the', '$44', 'billion', 'requested', 'by', 'the', 'Trump', 'administration.', 'The', 'Senate', 'has', 'not', 'yet', 'voted', 'on', 'the', 'aid.', 'As', 'U.S.', 'budget', 'fight', 'looms,', 'Republicans', 'flip', 'their', 'fiscal', 'script']\n",
      "--- remove stopwords ---\n",
      "washington reuters head conservative republican faction us congress voted month huge expansion national debt pay tax cuts called fiscal conservative sunday urged budget restraint 2018 keeping sharp pivot way among republicans us representative mark meadows speaking cbs face nation drew hard line federal spending lawmakers bracing battle january return holidays wednesday lawmakers begin trying pass federal budget fight likely linked issues immigration policy even november congressional election campaigns approach republicans seek keep control congress president donald trump republicans want big budget increase military spending democrats also want proportional increases nondefense discretionary spending programs support education scientific research infrastructure public health environmental protection trump administration already willing say going increase nondefense discretionary spending 7 percent meadows chairman small influential house freedom caucus said program democrats saying thats enough need give government pay raise 10 11 percent fiscal conservative dont see rationale eventually run peoples money said meadows among republicans voted late december partys debtfinanced tax overhaul expected balloon federal budget deficit add 15 trillion 10 years 20 trillion national debt interesting hear mark talk fiscal responsibility democratic us representative joseph crowley said cbs crowley said republican tax bill would require united states borrow 15 trillion paid future generations finance tax cuts corporations rich one least fiscally responsible bills weve ever seen passed history house representatives think going paying many many years come crowley said republicans insist tax package biggest us tax overhaul 30 years boost economy job growth house speaker paul ryan also supported tax bill recently went meadows making clear radio interview welfare entitlement reform party often calls would top republican priority 2018 republican parlance entitlement programs mean food stamps housing assistance medicare medicaid health insurance elderly poor disabled well programs created washington assist needy democrats seized ryans early december remarks saying showed republicans would try pay tax overhaul seeking spending cuts social programs goals house republicans may take back seat senate votes democrats needed approve budget prevent government shutdown democrats use leverage senate republicans narrowly control defend discretionary nondefense programs social spending tackling issue dreamers people brought illegally country children trump september put march 2018 expiration date deferred action childhood arrivals daca program protects young immigrants deportation provides work permits president said recent twitter messages wants funding proposed mexican border wall immigration law changes exchange agreeing help dreamers representative debbie dingell told cbs favor linking issue policy objectives wall funding need daca clean said wednesday trump aides meet congressional leaders discuss issues followed weekend strategy sessions trump republican leaders jan 6 7 white house said trump also scheduled meet sunday florida republican governor rick scott wants emergency aid house passed 81 billion aid package hurricanes florida texas puerto rico wildfires california package far exceeded 44 billion requested trump administration senate yet voted aid us budget fight looms republicans flip fiscal script\n",
      "--- stemming ---\n",
      "washington reuter head conserv republican faction us congress vote month huge expans nation debt pay tax cut call fiscal conserv sunday urg budget restraint 2018 keep sharp pivot way among republican us repres mark meadow speak cb face nation drew hard line feder spend lawmak brace battl januari return holiday wednesday lawmak begin tri pass feder budget fight like link issu immigr polici even novemb congression elect campaign approach republican seek keep control congress presid donald trump republican want big budget increas militari spend democrat also want proport increas nondefens discretionari spend program support educ scientif research infrastructur public health environment protect trump administr alreadi will say go increas nondefens discretionari spend 7 percent meadow chairman small influenti hous freedom caucu said program democrat say that enough need give govern pay rais 10 11 percent fiscal conserv dont see rational eventu run peopl money said meadow among republican vote late decemb parti debtfinanc tax overhaul expect balloon feder budget deficit add 15 trillion 10 year 20 trillion nation debt interest hear mark talk fiscal respons democrat us repres joseph crowley said cb crowley said republican tax bill would requir unit state borrow 15 trillion paid futur gener financ tax cut corpor rich one least fiscal respons bill weve ever seen pass histori hous repres think go pay mani mani year come crowley said republican insist tax packag biggest us tax overhaul 30 year boost economi job growth hous speaker paul ryan also support tax bill recent went meadow make clear radio interview welfar entitl reform parti often call would top republican prioriti 2018 republican parlanc entitl program mean food stamp hous assist medicar medicaid health insur elderli poor disabl well program creat washington assist needi democrat seiz ryan earli decemb remark say show republican would tri pay tax overhaul seek spend cut social program goal hous republican may take back seat senat vote democrat need approv budget prevent govern shutdown democrat use leverag senat republican narrowli control defend discretionari nondefens program social spend tackl issu dreamer peopl brought illeg countri children trump septemb put march 2018 expir date defer action childhood arriv daca program protect young immigr deport provid work permit presid said recent twitter messag want fund propos mexican border wall immigr law chang exchang agre help dreamer repres debbi dingel told cb favor link issu polici object wall fund need daca clean said wednesday trump aid meet congression leader discuss issu follow weekend strategi session trump republican leader jan 6 7 white hous said trump also schedul meet sunday florida republican governor rick scott want emerg aid hous pass 81 billion aid packag hurrican florida texa puerto rico wildfir california packag far exceed 44 billion request trump administr senat yet vote aid us budget fight loom republican flip fiscal script\n",
      "--- lemmatisation ---\n",
      "washington reuters head conservative republican faction u congress voted month huge expansion national debt pay tax cut called fiscal conservative sunday urged budget restraint 2018 keeping sharp pivot way among republican u representative mark meadow speaking cbs face nation drew hard line federal spending lawmaker bracing battle january return holiday wednesday lawmaker begin trying pas federal budget fight likely linked issue immigration policy even november congressional election campaign approach republican seek keep control congress president donald trump republican want big budget increase military spending democrat also want proportional increase nondefense discretionary spending program support education scientific research infrastructure public health environmental protection trump administration already willing say going increase nondefense discretionary spending 7 percent meadow chairman small influential house freedom caucus said program democrat saying thats enough need give government pay raise 10 11 percent fiscal conservative dont see rationale eventually run people money said meadow among republican voted late december party debtfinanced tax overhaul expected balloon federal budget deficit add 15 trillion 10 year 20 trillion national debt interesting hear mark talk fiscal responsibility democratic u representative joseph crowley said cbs crowley said republican tax bill would require united state borrow 15 trillion paid future generation finance tax cut corporation rich one least fiscally responsible bill weve ever seen passed history house representative think going paying many many year come crowley said republican insist tax package biggest u tax overhaul 30 year boost economy job growth house speaker paul ryan also supported tax bill recently went meadow making clear radio interview welfare entitlement reform party often call would top republican priority 2018 republican parlance entitlement program mean food stamp housing assistance medicare medicaid health insurance elderly poor disabled well program created washington assist needy democrat seized ryans early december remark saying showed republican would try pay tax overhaul seeking spending cut social program goal house republican may take back seat senate vote democrat needed approve budget prevent government shutdown democrat use leverage senate republican narrowly control defend discretionary nondefense program social spending tackling issue dreamer people brought illegally country child trump september put march 2018 expiration date deferred action childhood arrival daca program protects young immigrant deportation provides work permit president said recent twitter message want funding proposed mexican border wall immigration law change exchange agreeing help dreamer representative debbie dingell told cbs favor linking issue policy objective wall funding need daca clean said wednesday trump aide meet congressional leader discus issue followed weekend strategy session trump republican leader jan 6 7 white house said trump also scheduled meet sunday florida republican governor rick scott want emergency aid house passed 81 billion aid package hurricane florida texas puerto rico wildfire california package far exceeded 44 billion requested trump administration senate yet voted aid u budget fight loom republican flip fiscal script\n"
     ]
    }
   ],
   "source": [
    "# example\n",
    "i = 0\n",
    "print(\"--- original ---\")\n",
    "print(data[\"text\"].iloc[i])\n",
    "\n",
    "print(\"--- cleaning ---\")\n",
    "print(utils_preprocess_text(data[\"text\"].iloc[i], \n",
    "                      lst_stopwords=None, flg_stemm=False, flg_lemm=True))\n",
    "\n",
    "print(\"--- tokenization ---\")\n",
    "print(data[\"text\"].iloc[i].split())\n",
    "\n",
    "print(\"--- remove stopwords ---\")\n",
    "print(utils_preprocess_text(data[\"text\"].iloc[i], \n",
    "                      lst_stopwords=nltk.corpus.stopwords.words(\"english\"), \n",
    "                      flg_stemm=False, flg_lemm=None))\n",
    "\n",
    "print(\"--- stemming ---\")\n",
    "print(utils_preprocess_text(data[\"text\"].iloc[i], \n",
    "                      lst_stopwords=nltk.corpus.stopwords.words(\"english\"), \n",
    "                      flg_stemm=True, flg_lemm=False))\n",
    "\n",
    "print(\"--- lemmatisation ---\")\n",
    "print(utils_preprocess_text(data[\"text\"].iloc[i],\n",
    "                      lst_stopwords=nltk.corpus.stopwords.words(\"english\"), \n",
    "                      flg_stemm=False, flg_lemm=True))"
   ]
  },
  {
   "cell_type": "code",
   "execution_count": null,
   "metadata": {},
   "outputs": [],
   "source": []
  },
  {
   "cell_type": "code",
   "execution_count": null,
   "metadata": {},
   "outputs": [],
   "source": []
  },
  {
   "cell_type": "code",
   "execution_count": null,
   "metadata": {},
   "outputs": [],
   "source": []
  },
  {
   "cell_type": "code",
   "execution_count": null,
   "metadata": {},
   "outputs": [],
   "source": []
  },
  {
   "cell_type": "code",
   "execution_count": null,
   "metadata": {},
   "outputs": [],
   "source": []
  },
  {
   "cell_type": "code",
   "execution_count": null,
   "metadata": {},
   "outputs": [],
   "source": []
  },
  {
   "cell_type": "code",
   "execution_count": null,
   "metadata": {},
   "outputs": [],
   "source": []
  },
  {
   "cell_type": "code",
   "execution_count": null,
   "metadata": {},
   "outputs": [],
   "source": []
  },
  {
   "cell_type": "code",
   "execution_count": null,
   "metadata": {},
   "outputs": [],
   "source": []
  },
  {
   "cell_type": "code",
   "execution_count": null,
   "metadata": {},
   "outputs": [],
   "source": []
  },
  {
   "cell_type": "code",
   "execution_count": null,
   "metadata": {},
   "outputs": [],
   "source": []
  },
  {
   "cell_type": "code",
   "execution_count": null,
   "metadata": {},
   "outputs": [],
   "source": []
  },
  {
   "cell_type": "code",
   "execution_count": null,
   "metadata": {},
   "outputs": [],
   "source": []
  },
  {
   "cell_type": "code",
   "execution_count": null,
   "metadata": {},
   "outputs": [],
   "source": []
  },
  {
   "cell_type": "code",
   "execution_count": null,
   "metadata": {},
   "outputs": [],
   "source": []
  }
 ],
 "metadata": {
  "kernelspec": {
   "display_name": "Python [conda env:nf] *",
   "language": "python",
   "name": "conda-env-nf-py"
  },
  "language_info": {
   "codemirror_mode": {
    "name": "ipython",
    "version": 3
   },
   "file_extension": ".py",
   "mimetype": "text/x-python",
   "name": "python",
   "nbconvert_exporter": "python",
   "pygments_lexer": "ipython3",
   "version": "3.6.10"
  },
  "toc": {
   "base_numbering": 1,
   "nav_menu": {},
   "number_sections": true,
   "sideBar": true,
   "skip_h1_title": false,
   "title_cell": "Table of Contents",
   "title_sidebar": "Contents",
   "toc_cell": false,
   "toc_position": {},
   "toc_section_display": true,
   "toc_window_display": false
  }
 },
 "nbformat": 4,
 "nbformat_minor": 4
}
