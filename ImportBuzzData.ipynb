{
 "cells": [
  {
   "cell_type": "code",
   "execution_count": 35,
   "metadata": {},
   "outputs": [],
   "source": [
    "reset -fs"
   ]
  },
  {
   "cell_type": "markdown",
   "metadata": {},
   "source": [
    "# Libary import"
   ]
  },
  {
   "cell_type": "code",
   "execution_count": 36,
   "metadata": {},
   "outputs": [],
   "source": [
    "import xml.etree.ElementTree as ET\n",
    "import pandas as pd\n",
    "import glob\n",
    "from sklearn import tree\n",
    "import os"
   ]
  },
  {
   "cell_type": "markdown",
   "metadata": {},
   "source": [
    "# Overview dataset"
   ]
  },
  {
   "cell_type": "code",
   "execution_count": 37,
   "metadata": {},
   "outputs": [
    {
     "data": {
      "text/plain": [
       "(1627, 5)"
      ]
     },
     "execution_count": 37,
     "metadata": {},
     "output_type": "execute_result"
    }
   ],
   "source": [
    "data_o = pd.read_csv('overview.csv')\n",
    "data_o.shape"
   ]
  },
  {
   "cell_type": "code",
   "execution_count": 38,
   "metadata": {},
   "outputs": [
    {
     "name": "stdout",
     "output_type": "stream",
     "text": [
      "<class 'pandas.core.frame.DataFrame'>\n",
      "RangeIndex: 1627 entries, 0 to 1626\n",
      "Data columns (total 5 columns):\n",
      "XML            1627 non-null object\n",
      "portal         1627 non-null object\n",
      "orientation    1627 non-null object\n",
      "veracity       1627 non-null object\n",
      "url            1627 non-null object\n",
      "dtypes: object(5)\n",
      "memory usage: 63.6+ KB\n"
     ]
    }
   ],
   "source": [
    "data_o.info()"
   ]
  },
  {
   "cell_type": "markdown",
   "metadata": {},
   "source": [
    "# Import XML Files"
   ]
  },
  {
   "cell_type": "code",
   "execution_count": 39,
   "metadata": {},
   "outputs": [],
   "source": [
    "# define path, import and sort filenames\n",
    "path = 'articles/'\n",
    "xmlfile = sorted(os.listdir(path))"
   ]
  },
  {
   "cell_type": "code",
   "execution_count": 40,
   "metadata": {},
   "outputs": [],
   "source": [
    "# store relevant informations in lists\n",
    "article_list = []\n",
    "author_list = []\n",
    "title_list = []\n",
    "orientation_list = []\n",
    "veracity_list = []\n",
    "portal_list = []\n",
    "\n",
    "for filename in xmlfile:\n",
    "    file = os.path.join(path, filename)\n",
    "    xtree = ET.parse(file)\n",
    "    article_list.append(xtree.find('mainText').text)\n",
    "    author_list.append(xtree.find('author').text)\n",
    "    title_list.append(xtree.find('title').text)\n",
    "    orientation_list.append(xtree.find('orientation').text)\n",
    "    veracity_list.append(xtree.find('veracity').text)\n",
    "    portal_list.append(xtree.find('portal').text)\n"
   ]
  },
  {
   "cell_type": "code",
   "execution_count": 41,
   "metadata": {},
   "outputs": [],
   "source": [
    "# check list of all features\n",
    "df = pd.DataFrame([article_list, author_list, title_list, orientation_list, veracity_list, portal_list]).T"
   ]
  },
  {
   "cell_type": "code",
   "execution_count": 42,
   "metadata": {},
   "outputs": [],
   "source": [
    "# rename features\n",
    "df.rename(columns={0: 'article', 1: 'author', 2: 'title', 3: 'orientation', 4: 'veracity', 5: 'portal'},\n",
    "          inplace = True)"
   ]
  },
  {
   "cell_type": "code",
   "execution_count": 43,
   "metadata": {},
   "outputs": [
    {
     "name": "stdout",
     "output_type": "stream",
     "text": [
      "<class 'pandas.core.frame.DataFrame'>\n",
      "RangeIndex: 1627 entries, 0 to 1626\n",
      "Data columns (total 6 columns):\n",
      "article        1604 non-null object\n",
      "author         1143 non-null object\n",
      "title          1596 non-null object\n",
      "orientation    1627 non-null object\n",
      "veracity       1627 non-null object\n",
      "portal         1627 non-null object\n",
      "dtypes: object(6)\n",
      "memory usage: 76.3+ KB\n"
     ]
    }
   ],
   "source": [
    "df.info()"
   ]
  },
  {
   "cell_type": "code",
   "execution_count": 44,
   "metadata": {},
   "outputs": [],
   "source": [
    "# save as csv\n",
    "df = df.to_csv('BuzzDataFull.csv', index=False)"
   ]
  }
 ],
 "metadata": {
  "kernelspec": {
   "display_name": "Python 3",
   "language": "python",
   "name": "python3"
  },
  "language_info": {
   "codemirror_mode": {
    "name": "ipython",
    "version": 3
   },
   "file_extension": ".py",
   "mimetype": "text/x-python",
   "name": "python",
   "nbconvert_exporter": "python",
   "pygments_lexer": "ipython3",
   "version": "3.8.6"
  },
  "toc": {
   "base_numbering": 1,
   "nav_menu": {},
   "number_sections": true,
   "sideBar": true,
   "skip_h1_title": false,
   "title_cell": "Table of Contents",
   "title_sidebar": "Contents",
   "toc_cell": false,
   "toc_position": {},
   "toc_section_display": true,
   "toc_window_display": true
  }
 },
 "nbformat": 4,
 "nbformat_minor": 4
}
